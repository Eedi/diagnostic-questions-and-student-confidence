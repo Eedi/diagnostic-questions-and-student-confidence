{
 "cells": [
  {
   "cell_type": "markdown",
   "metadata": {
    "colab_type": "text",
    "id": "2EBy84-E17rk",
    "toc": true
   },
   "source": [
    "<h1>Table of Contents<span class=\"tocSkip\"></span></h1>\n",
    "<div class=\"toc\"><ul class=\"toc-item\"><li><span><a href=\"#Introduction\" data-toc-modified-id=\"Introduction-1\"><span class=\"toc-item-num\">1&nbsp;&nbsp;</span>Introduction</a></span></li><li><span><a href=\"#Getting-the-Raw-Data\" data-toc-modified-id=\"Getting-the-Raw-Data-2\"><span class=\"toc-item-num\">2&nbsp;&nbsp;</span>Getting the Raw Data</a></span></li><li><span><a href=\"#Method\" data-toc-modified-id=\"Method-3\"><span class=\"toc-item-num\">3&nbsp;&nbsp;</span>Method</a></span><ul class=\"toc-item\"><li><span><a href=\"#Participants\" data-toc-modified-id=\"Participants-3.1\"><span class=\"toc-item-num\">3.1&nbsp;&nbsp;</span>Participants</a></span></li></ul></li><li><span><a href=\"#Results\" data-toc-modified-id=\"Results-4\"><span class=\"toc-item-num\">4&nbsp;&nbsp;</span>Results</a></span><ul class=\"toc-item\"><li><span><a href=\"#How-are-students’-confidence-ratings-related-to-their-mean-facility,-age,-gender,-socioeconomic-disadvantage-and-mathematical-topic?\" data-toc-modified-id=\"How-are-students’-confidence-ratings-related-to-their-mean-facility,-age,-gender,-socioeconomic-disadvantage-and-mathematical-topic?-4.1\"><span class=\"toc-item-num\">4.1&nbsp;&nbsp;</span>How are students’ confidence ratings related to their mean facility, age, gender, socioeconomic disadvantage and mathematical topic?</a></span><ul class=\"toc-item\"><li><span><a href=\"#Facility\" data-toc-modified-id=\"Facility-4.1.1\"><span class=\"toc-item-num\">4.1.1&nbsp;&nbsp;</span>Facility</a></span></li></ul></li></ul></li></ul></div>"
   ]
  },
  {
   "cell_type": "code",
   "execution_count": null,
   "metadata": {
    "colab": {},
    "colab_type": "code",
    "id": "iOcT_dUr17rt"
   },
   "outputs": [],
   "source": [
    "import math\n",
    "import pandas as pd\n",
    "import numpy as np\n",
    "\n",
    "import IPython\n",
    "from IPython.display import IFrame\n",
    "\n",
    "import matplotlib as mpl\n",
    "import matplotlib.pyplot as plt\n",
    "import matplotlib.ticker as ticker\n",
    "import seaborn as sns\n",
    "\n",
    "from scipy import stats\n",
    "from statannot import add_stat_annotation"
   ]
  },
  {
   "cell_type": "code",
   "execution_count": null,
   "metadata": {
    "colab": {},
    "colab_type": "code",
    "id": "FWH2-B9m17ru"
   },
   "outputs": [],
   "source": [
    "from utils import apaStyleCorrelation, apaStylePValue, apaStyleCombined, apaStyleStatistic, set_style, export_fig, conf_dualplot, mann_whitney_rank_biserial_correlation, wilcoxon_signed_matched_pairs_rank_biserial_correlation, students_describe, students_kruskal, students_mann_whitney"
   ]
  },
  {
   "cell_type": "code",
   "execution_count": null,
   "metadata": {},
   "outputs": [],
   "source": [
    "%matplotlib inline\n",
    "\n",
    "# Dimensions taken from Educational Studies in Mathematics Guidelines https://bit.ly/38eECzS\n",
    "width_inches_one_column = 84 / 25.4\n",
    "width_inches_full_page = 174 / 25.4\n",
    "\n",
    "# Additional setting for publication are set in the custom matplotlibrc file\n",
    "set_style()"
   ]
  },
  {
   "cell_type": "markdown",
   "metadata": {},
   "source": [
    "# Introduction\n",
    "\n",
    "Code to reproduce the statistics and graphics in the paper \"School students' confidence when answering diagnostic questions online\"."
   ]
  },
  {
   "cell_type": "markdown",
   "metadata": {
    "colab_type": "text",
    "id": "3ZIvhjKB17rx"
   },
   "source": [
    "# Getting the Raw Data"
   ]
  },
  {
   "cell_type": "code",
   "execution_count": 4,
   "metadata": {},
   "outputs": [],
   "source": [
    "answers_raw = pd.read_csv(\"input/answers_with_confidence.csv\", \n",
    "    dtype = { \n",
    "        \"AnswerId\": \"int64\",\n",
    "        \"UserId\": \"int64\",\n",
    "        \"QuestionId\": \"int64\",\n",
    "        \"Confidence\": \"int64\",\n",
    "        \"DateAnswered\": \"object\",\n",
    "        \"IsCorrect\": \"int64\",\n",
    "        \"QuizBAnswerId\": \"float64\",\n",
    "        \"QuizBQuestionId\": \"float64\",\n",
    "        \"QuizBConfidence\": \"float64\",\n",
    "        \"QuizBDateAnswered\": \"object\",\n",
    "        \"QuizBIsCorrect\": \"float64\"\n",
    "    },\n",
    "    parse_dates= [\n",
    "        \"DateAnswered\",\n",
    "        \"QuizBDateAnswered\"\n",
    "    ])\n",
    "\n",
    "answers_raw.set_index(\"AnswerId\", inplace=True);\n",
    "\n",
    "answers_raw[\"AnswerId\"] = answers_raw.index;"
   ]
  },
  {
   "cell_type": "code",
   "execution_count": 5,
   "metadata": {},
   "outputs": [],
   "source": [
    "students_metadata = pd.read_csv(\"input/students_with_confidence.csv\", index_col=\"UserId\")\n",
    "\n",
    "gender_enum = { 0: \"unspecified\", 1: \"female\", 2: \"male\", 3: \"other\" }\n",
    "\n",
    "students_metadata[\"Gender\"] = students_metadata[\"Gender\"].map(gender_enum)"
   ]
  },
  {
   "cell_type": "code",
   "execution_count": 6,
   "metadata": {},
   "outputs": [],
   "source": [
    "students_metadata[\"age_group_sept_2018\"] = None\n",
    "\n",
    "students_metadata.loc[students_metadata[\"AgeSept2018\"].isin([5,6]),\"age_group_sept_2018\"] = \"5-6\"\n",
    "students_metadata.loc[students_metadata[\"AgeSept2018\"].isin([7,8,9,10]),\"age_group_sept_2018\"] = \"7-10\"\n",
    "students_metadata.loc[students_metadata[\"AgeSept2018\"].isin([11,12,13]),\"age_group_sept_2018\"] = \"11-13\"\n",
    "students_metadata.loc[students_metadata[\"AgeSept2018\"].isin([14,15,16]),\"age_group_sept_2018\"] = \"14-16\""
   ]
  },
  {
   "cell_type": "code",
   "execution_count": 7,
   "metadata": {},
   "outputs": [],
   "source": [
    "students_metadata[\"AgeSept2019\"] = students_metadata[\"AgeSept2018\"] + 1 \n",
    "students_metadata[\"age_group_sept_2019\"] = None\n",
    "\n",
    "students_metadata.loc[students_metadata[\"AgeSept2019\"].isin([5,6]),\"age_group_sept_2019\"] = \"5-6\"\n",
    "students_metadata.loc[students_metadata[\"AgeSept2019\"].isin([7,8,9,10]),\"age_group_sept_2019\"] = \"7-10\"\n",
    "students_metadata.loc[students_metadata[\"AgeSept2019\"].isin([11,12,13]),\"age_group_sept_2019\"] = \"11-13\"\n",
    "students_metadata.loc[students_metadata[\"AgeSept2019\"].isin([14,15,16]),\"age_group_sept_2019\"] = \"14-16\""
   ]
  },
  {
   "cell_type": "code",
   "execution_count": 8,
   "metadata": {},
   "outputs": [],
   "source": [
    "students = answers_raw.groupby(\"UserId\").agg( \n",
    "    AnswersCount = (\"AnswerId\", \"count\"),    \n",
    "    MeanConfidence = (\"Confidence\", \"mean\"),\n",
    "    StdConfidence = (\"Confidence\", np.std),\n",
    "    CorrectCount = (\"IsCorrect\", lambda x: sum(x == 1))\n",
    ")\n",
    "\n",
    "students[\"IncorrectCount\"] = students[\"AnswersCount\"] - students[\"CorrectCount\"]\n",
    "\n",
    "students[\"Facility\"] = 100 * students[\"CorrectCount\"] / students[\"AnswersCount\"]"
   ]
  },
  {
   "cell_type": "code",
   "execution_count": 9,
   "metadata": {},
   "outputs": [],
   "source": [
    "students_confidence = answers_raw.groupby([\"UserId\", \"IsCorrect\"]).agg(\n",
    "    MeanConfidence=(\"Confidence\", np.mean)\n",
    ").unstack().rename(columns = {\n",
    "    0: \"MeanConfidenceIncorrectAnswers\", \n",
    "    1: \"MeanConfidenceCorrectAnswers\"\n",
    "}, level = 1)\n",
    "\n",
    "students_confidence.columns = students_confidence.columns.droplevel(0)\n",
    "\n",
    "students_confidence[\"ConfidenceDifference\"] = students_confidence[\"MeanConfidenceCorrectAnswers\"] \\\n",
    "    - students_confidence[\"MeanConfidenceIncorrectAnswers\"]\n",
    "\n",
    "students = pd.merge(students, students_confidence, left_on=\"UserId\", right_index=True, how=\"inner\")"
   ]
  },
  {
   "cell_type": "code",
   "execution_count": 10,
   "metadata": {},
   "outputs": [],
   "source": [
    "students = pd.merge(students, students_metadata, left_on=\"UserId\", right_index=True, how=\"inner\") "
   ]
  },
  {
   "cell_type": "code",
   "execution_count": 11,
   "metadata": {},
   "outputs": [
    {
     "data": {
      "text/html": [
       "<div>\n",
       "<style scoped>\n",
       "    .dataframe tbody tr th:only-of-type {\n",
       "        vertical-align: middle;\n",
       "    }\n",
       "\n",
       "    .dataframe tbody tr th {\n",
       "        vertical-align: top;\n",
       "    }\n",
       "\n",
       "    .dataframe thead th {\n",
       "        text-align: right;\n",
       "    }\n",
       "</style>\n",
       "<table border=\"1\" class=\"dataframe\">\n",
       "  <thead>\n",
       "    <tr style=\"text-align: right;\">\n",
       "      <th></th>\n",
       "      <th>AnswersCount</th>\n",
       "      <th>MeanConfidence</th>\n",
       "      <th>StdConfidence</th>\n",
       "      <th>CorrectCount</th>\n",
       "      <th>IncorrectCount</th>\n",
       "      <th>Facility</th>\n",
       "      <th>MeanConfidenceIncorrectAnswers</th>\n",
       "      <th>MeanConfidenceCorrectAnswers</th>\n",
       "      <th>ConfidenceDifference</th>\n",
       "      <th>Gender</th>\n",
       "      <th>AgeSept2018</th>\n",
       "      <th>IsAdvantaged</th>\n",
       "      <th>age_group_sept_2018</th>\n",
       "      <th>AgeSept2019</th>\n",
       "      <th>age_group_sept_2019</th>\n",
       "    </tr>\n",
       "    <tr>\n",
       "      <th>UserId</th>\n",
       "      <th></th>\n",
       "      <th></th>\n",
       "      <th></th>\n",
       "      <th></th>\n",
       "      <th></th>\n",
       "      <th></th>\n",
       "      <th></th>\n",
       "      <th></th>\n",
       "      <th></th>\n",
       "      <th></th>\n",
       "      <th></th>\n",
       "      <th></th>\n",
       "      <th></th>\n",
       "      <th></th>\n",
       "      <th></th>\n",
       "    </tr>\n",
       "  </thead>\n",
       "  <tbody>\n",
       "    <tr>\n",
       "      <th>4</th>\n",
       "      <td>16</td>\n",
       "      <td>81.25</td>\n",
       "      <td>34.761089</td>\n",
       "      <td>11</td>\n",
       "      <td>5</td>\n",
       "      <td>68.750000</td>\n",
       "      <td>75.0</td>\n",
       "      <td>84.090909</td>\n",
       "      <td>9.090909</td>\n",
       "      <td>female</td>\n",
       "      <td>14</td>\n",
       "      <td>1</td>\n",
       "      <td>14-16</td>\n",
       "      <td>15</td>\n",
       "      <td>14-16</td>\n",
       "    </tr>\n",
       "    <tr>\n",
       "      <th>14</th>\n",
       "      <td>6</td>\n",
       "      <td>100.00</td>\n",
       "      <td>0.000000</td>\n",
       "      <td>2</td>\n",
       "      <td>4</td>\n",
       "      <td>33.333333</td>\n",
       "      <td>100.0</td>\n",
       "      <td>100.000000</td>\n",
       "      <td>0.000000</td>\n",
       "      <td>male</td>\n",
       "      <td>12</td>\n",
       "      <td>1</td>\n",
       "      <td>11-13</td>\n",
       "      <td>13</td>\n",
       "      <td>11-13</td>\n",
       "    </tr>\n",
       "    <tr>\n",
       "      <th>23</th>\n",
       "      <td>8</td>\n",
       "      <td>12.50</td>\n",
       "      <td>35.355339</td>\n",
       "      <td>3</td>\n",
       "      <td>5</td>\n",
       "      <td>37.500000</td>\n",
       "      <td>0.0</td>\n",
       "      <td>33.333333</td>\n",
       "      <td>33.333333</td>\n",
       "      <td>male</td>\n",
       "      <td>14</td>\n",
       "      <td>1</td>\n",
       "      <td>14-16</td>\n",
       "      <td>15</td>\n",
       "      <td>14-16</td>\n",
       "    </tr>\n",
       "    <tr>\n",
       "      <th>39</th>\n",
       "      <td>18</td>\n",
       "      <td>100.00</td>\n",
       "      <td>0.000000</td>\n",
       "      <td>18</td>\n",
       "      <td>0</td>\n",
       "      <td>100.000000</td>\n",
       "      <td>NaN</td>\n",
       "      <td>100.000000</td>\n",
       "      <td>NaN</td>\n",
       "      <td>female</td>\n",
       "      <td>12</td>\n",
       "      <td>1</td>\n",
       "      <td>11-13</td>\n",
       "      <td>13</td>\n",
       "      <td>11-13</td>\n",
       "    </tr>\n",
       "    <tr>\n",
       "      <th>40</th>\n",
       "      <td>10</td>\n",
       "      <td>40.00</td>\n",
       "      <td>33.747428</td>\n",
       "      <td>7</td>\n",
       "      <td>3</td>\n",
       "      <td>70.000000</td>\n",
       "      <td>50.0</td>\n",
       "      <td>35.714286</td>\n",
       "      <td>-14.285714</td>\n",
       "      <td>female</td>\n",
       "      <td>12</td>\n",
       "      <td>0</td>\n",
       "      <td>11-13</td>\n",
       "      <td>13</td>\n",
       "      <td>11-13</td>\n",
       "    </tr>\n",
       "  </tbody>\n",
       "</table>\n",
       "</div>"
      ],
      "text/plain": [
       "        AnswersCount  MeanConfidence  StdConfidence  CorrectCount  \\\n",
       "UserId                                                              \n",
       "4                 16           81.25      34.761089            11   \n",
       "14                 6          100.00       0.000000             2   \n",
       "23                 8           12.50      35.355339             3   \n",
       "39                18          100.00       0.000000            18   \n",
       "40                10           40.00      33.747428             7   \n",
       "\n",
       "        IncorrectCount    Facility  MeanConfidenceIncorrectAnswers  \\\n",
       "UserId                                                               \n",
       "4                    5   68.750000                            75.0   \n",
       "14                   4   33.333333                           100.0   \n",
       "23                   5   37.500000                             0.0   \n",
       "39                   0  100.000000                             NaN   \n",
       "40                   3   70.000000                            50.0   \n",
       "\n",
       "        MeanConfidenceCorrectAnswers  ConfidenceDifference  Gender  \\\n",
       "UserId                                                               \n",
       "4                          84.090909              9.090909  female   \n",
       "14                        100.000000              0.000000    male   \n",
       "23                         33.333333             33.333333    male   \n",
       "39                        100.000000                   NaN  female   \n",
       "40                         35.714286            -14.285714  female   \n",
       "\n",
       "        AgeSept2018  IsAdvantaged age_group_sept_2018  AgeSept2019  \\\n",
       "UserId                                                               \n",
       "4                14             1               14-16           15   \n",
       "14               12             1               11-13           13   \n",
       "23               14             1               14-16           15   \n",
       "39               12             1               11-13           13   \n",
       "40               12             0               11-13           13   \n",
       "\n",
       "       age_group_sept_2019  \n",
       "UserId                      \n",
       "4                    14-16  \n",
       "14                   11-13  \n",
       "23                   14-16  \n",
       "39                   11-13  \n",
       "40                   11-13  "
      ]
     },
     "execution_count": 11,
     "metadata": {},
     "output_type": "execute_result"
    }
   ],
   "source": [
    "students.head()"
   ]
  },
  {
   "cell_type": "code",
   "execution_count": 12,
   "metadata": {},
   "outputs": [],
   "source": [
    "answers = pd.merge(answers_raw, students, left_on=\"UserId\", right_index=True, how=\"inner\")"
   ]
  },
  {
   "cell_type": "code",
   "execution_count": 13,
   "metadata": {},
   "outputs": [
    {
     "data": {
      "text/html": [
       "<div>\n",
       "<style scoped>\n",
       "    .dataframe tbody tr th:only-of-type {\n",
       "        vertical-align: middle;\n",
       "    }\n",
       "\n",
       "    .dataframe tbody tr th {\n",
       "        vertical-align: top;\n",
       "    }\n",
       "\n",
       "    .dataframe thead th {\n",
       "        text-align: right;\n",
       "    }\n",
       "</style>\n",
       "<table border=\"1\" class=\"dataframe\">\n",
       "  <thead>\n",
       "    <tr style=\"text-align: right;\">\n",
       "      <th></th>\n",
       "      <th>UserId</th>\n",
       "      <th>QuestionId</th>\n",
       "      <th>Confidence</th>\n",
       "      <th>DateAnswered</th>\n",
       "      <th>IsCorrect</th>\n",
       "      <th>QuizBAnswerId</th>\n",
       "      <th>QuizBQuestionId</th>\n",
       "      <th>QuizBConfidence</th>\n",
       "      <th>QuizBDateAnswered</th>\n",
       "      <th>QuizBIsCorrect</th>\n",
       "      <th>...</th>\n",
       "      <th>Facility</th>\n",
       "      <th>MeanConfidenceIncorrectAnswers</th>\n",
       "      <th>MeanConfidenceCorrectAnswers</th>\n",
       "      <th>ConfidenceDifference</th>\n",
       "      <th>Gender</th>\n",
       "      <th>AgeSept2018</th>\n",
       "      <th>IsAdvantaged</th>\n",
       "      <th>age_group_sept_2018</th>\n",
       "      <th>AgeSept2019</th>\n",
       "      <th>age_group_sept_2019</th>\n",
       "    </tr>\n",
       "    <tr>\n",
       "      <th>AnswerId</th>\n",
       "      <th></th>\n",
       "      <th></th>\n",
       "      <th></th>\n",
       "      <th></th>\n",
       "      <th></th>\n",
       "      <th></th>\n",
       "      <th></th>\n",
       "      <th></th>\n",
       "      <th></th>\n",
       "      <th></th>\n",
       "      <th></th>\n",
       "      <th></th>\n",
       "      <th></th>\n",
       "      <th></th>\n",
       "      <th></th>\n",
       "      <th></th>\n",
       "      <th></th>\n",
       "      <th></th>\n",
       "      <th></th>\n",
       "      <th></th>\n",
       "      <th></th>\n",
       "    </tr>\n",
       "  </thead>\n",
       "  <tbody>\n",
       "    <tr>\n",
       "      <th>109404</th>\n",
       "      <td>6439</td>\n",
       "      <td>9892</td>\n",
       "      <td>0</td>\n",
       "      <td>2019-03-07 00:30:51.877</td>\n",
       "      <td>0</td>\n",
       "      <td>NaN</td>\n",
       "      <td>NaN</td>\n",
       "      <td>NaN</td>\n",
       "      <td>NaT</td>\n",
       "      <td>NaN</td>\n",
       "      <td>...</td>\n",
       "      <td>20.0</td>\n",
       "      <td>34.375</td>\n",
       "      <td>75.0</td>\n",
       "      <td>40.625</td>\n",
       "      <td>female</td>\n",
       "      <td>14</td>\n",
       "      <td>1</td>\n",
       "      <td>14-16</td>\n",
       "      <td>15</td>\n",
       "      <td>14-16</td>\n",
       "    </tr>\n",
       "    <tr>\n",
       "      <th>109405</th>\n",
       "      <td>6439</td>\n",
       "      <td>9893</td>\n",
       "      <td>75</td>\n",
       "      <td>2019-03-07 00:31:00.120</td>\n",
       "      <td>0</td>\n",
       "      <td>NaN</td>\n",
       "      <td>NaN</td>\n",
       "      <td>NaN</td>\n",
       "      <td>NaT</td>\n",
       "      <td>NaN</td>\n",
       "      <td>...</td>\n",
       "      <td>20.0</td>\n",
       "      <td>34.375</td>\n",
       "      <td>75.0</td>\n",
       "      <td>40.625</td>\n",
       "      <td>female</td>\n",
       "      <td>14</td>\n",
       "      <td>1</td>\n",
       "      <td>14-16</td>\n",
       "      <td>15</td>\n",
       "      <td>14-16</td>\n",
       "    </tr>\n",
       "    <tr>\n",
       "      <th>109395</th>\n",
       "      <td>6439</td>\n",
       "      <td>9882</td>\n",
       "      <td>50</td>\n",
       "      <td>2019-03-07 00:28:38.703</td>\n",
       "      <td>0</td>\n",
       "      <td>NaN</td>\n",
       "      <td>NaN</td>\n",
       "      <td>NaN</td>\n",
       "      <td>NaT</td>\n",
       "      <td>NaN</td>\n",
       "      <td>...</td>\n",
       "      <td>20.0</td>\n",
       "      <td>34.375</td>\n",
       "      <td>75.0</td>\n",
       "      <td>40.625</td>\n",
       "      <td>female</td>\n",
       "      <td>14</td>\n",
       "      <td>1</td>\n",
       "      <td>14-16</td>\n",
       "      <td>15</td>\n",
       "      <td>14-16</td>\n",
       "    </tr>\n",
       "    <tr>\n",
       "      <th>109396</th>\n",
       "      <td>6439</td>\n",
       "      <td>9884</td>\n",
       "      <td>25</td>\n",
       "      <td>2019-03-07 00:29:00.500</td>\n",
       "      <td>0</td>\n",
       "      <td>NaN</td>\n",
       "      <td>NaN</td>\n",
       "      <td>NaN</td>\n",
       "      <td>NaT</td>\n",
       "      <td>NaN</td>\n",
       "      <td>...</td>\n",
       "      <td>20.0</td>\n",
       "      <td>34.375</td>\n",
       "      <td>75.0</td>\n",
       "      <td>40.625</td>\n",
       "      <td>female</td>\n",
       "      <td>14</td>\n",
       "      <td>1</td>\n",
       "      <td>14-16</td>\n",
       "      <td>15</td>\n",
       "      <td>14-16</td>\n",
       "    </tr>\n",
       "    <tr>\n",
       "      <th>109400</th>\n",
       "      <td>6439</td>\n",
       "      <td>9887</td>\n",
       "      <td>0</td>\n",
       "      <td>2019-03-07 00:29:51.483</td>\n",
       "      <td>0</td>\n",
       "      <td>NaN</td>\n",
       "      <td>NaN</td>\n",
       "      <td>NaN</td>\n",
       "      <td>NaT</td>\n",
       "      <td>NaN</td>\n",
       "      <td>...</td>\n",
       "      <td>20.0</td>\n",
       "      <td>34.375</td>\n",
       "      <td>75.0</td>\n",
       "      <td>40.625</td>\n",
       "      <td>female</td>\n",
       "      <td>14</td>\n",
       "      <td>1</td>\n",
       "      <td>14-16</td>\n",
       "      <td>15</td>\n",
       "      <td>14-16</td>\n",
       "    </tr>\n",
       "  </tbody>\n",
       "</table>\n",
       "<p>5 rows × 26 columns</p>\n",
       "</div>"
      ],
      "text/plain": [
       "          UserId  QuestionId  Confidence            DateAnswered  IsCorrect  \\\n",
       "AnswerId                                                                      \n",
       "109404      6439        9892           0 2019-03-07 00:30:51.877          0   \n",
       "109405      6439        9893          75 2019-03-07 00:31:00.120          0   \n",
       "109395      6439        9882          50 2019-03-07 00:28:38.703          0   \n",
       "109396      6439        9884          25 2019-03-07 00:29:00.500          0   \n",
       "109400      6439        9887           0 2019-03-07 00:29:51.483          0   \n",
       "\n",
       "          QuizBAnswerId  QuizBQuestionId  QuizBConfidence QuizBDateAnswered  \\\n",
       "AnswerId                                                                      \n",
       "109404              NaN              NaN              NaN               NaT   \n",
       "109405              NaN              NaN              NaN               NaT   \n",
       "109395              NaN              NaN              NaN               NaT   \n",
       "109396              NaN              NaN              NaN               NaT   \n",
       "109400              NaN              NaN              NaN               NaT   \n",
       "\n",
       "          QuizBIsCorrect  ...  Facility  MeanConfidenceIncorrectAnswers  \\\n",
       "AnswerId                  ...                                             \n",
       "109404               NaN  ...      20.0                          34.375   \n",
       "109405               NaN  ...      20.0                          34.375   \n",
       "109395               NaN  ...      20.0                          34.375   \n",
       "109396               NaN  ...      20.0                          34.375   \n",
       "109400               NaN  ...      20.0                          34.375   \n",
       "\n",
       "          MeanConfidenceCorrectAnswers  ConfidenceDifference  Gender  \\\n",
       "AnswerId                                                               \n",
       "109404                            75.0                40.625  female   \n",
       "109405                            75.0                40.625  female   \n",
       "109395                            75.0                40.625  female   \n",
       "109396                            75.0                40.625  female   \n",
       "109400                            75.0                40.625  female   \n",
       "\n",
       "          AgeSept2018  IsAdvantaged  age_group_sept_2018  AgeSept2019  \\\n",
       "AnswerId                                                                \n",
       "109404             14             1                14-16           15   \n",
       "109405             14             1                14-16           15   \n",
       "109395             14             1                14-16           15   \n",
       "109396             14             1                14-16           15   \n",
       "109400             14             1                14-16           15   \n",
       "\n",
       "          age_group_sept_2019  \n",
       "AnswerId                       \n",
       "109404                  14-16  \n",
       "109405                  14-16  \n",
       "109395                  14-16  \n",
       "109396                  14-16  \n",
       "109400                  14-16  \n",
       "\n",
       "[5 rows x 26 columns]"
      ]
     },
     "execution_count": 13,
     "metadata": {},
     "output_type": "execute_result"
    }
   ],
   "source": [
    "answers.head()"
   ]
  },
  {
   "cell_type": "code",
   "execution_count": 14,
   "metadata": {},
   "outputs": [],
   "source": [
    "questions = answers_raw.groupby(\"QuestionId\").agg( \n",
    "    AnswersCount = (\"AnswerId\", \"count\"),    \n",
    "    MeanConfidence = (\"Confidence\", \"mean\"),\n",
    "    StdConfidence = (\"Confidence\", np.std),\n",
    "    CorrectCount = (\"IsCorrect\", lambda x: sum(x == 1))\n",
    ")\n",
    "\n",
    "questions[\"IncorrectCount\"] = questions[\"AnswersCount\"] - questions[\"CorrectCount\"]\n",
    "\n",
    "questions[\"Facility\"] = 100 * questions[\"CorrectCount\"] / questions[\"AnswersCount\"]"
   ]
  },
  {
   "cell_type": "code",
   "execution_count": 15,
   "metadata": {},
   "outputs": [],
   "source": [
    "questions_confidence = answers_raw.groupby([\"QuestionId\", \"IsCorrect\"]).agg(\n",
    "    MeanConfidence=(\"Confidence\", np.mean)\n",
    ").unstack().rename(columns = {\n",
    "    0: \"MeanConfidenceIncorrectAnswers\", \n",
    "    1: \"MeanConfidenceCorrectAnswers\"\n",
    "}, level = 1)\n",
    "\n",
    "questions_confidence.columns = questions_confidence.columns.droplevel(0)\n",
    "\n",
    "questions_confidence[\"ConfidenceDifference\"] = questions_confidence[\"MeanConfidenceCorrectAnswers\"] \\\n",
    "    - questions_confidence[\"MeanConfidenceIncorrectAnswers\"]\n",
    "\n",
    "questions = pd.merge(questions, questions_confidence, left_on=\"QuestionId\", right_index=True, how=\"inner\")"
   ]
  },
  {
   "cell_type": "code",
   "execution_count": 16,
   "metadata": {},
   "outputs": [],
   "source": [
    "answers_raw_2019_to_2020 = answers_raw[answers_raw[\"DateAnswered\"] > \"2019-09-01\"]"
   ]
  },
  {
   "cell_type": "code",
   "execution_count": 17,
   "metadata": {},
   "outputs": [],
   "source": [
    "students_2019_to_2020 = answers_raw_2019_to_2020.groupby(\"UserId\").agg( \n",
    "    AnswersCount = (\"AnswerId\", \"count\"),    \n",
    "    MeanConfidence = (\"Confidence\", \"mean\"),\n",
    "    CorrectCount = (\"IsCorrect\", lambda x: sum(x == 1))\n",
    ")\n",
    "\n",
    "students_2019_to_2020[\"IncorrectCount\"] = students_2019_to_2020[\"AnswersCount\"] - students_2019_to_2020[\"CorrectCount\"]\n",
    "\n",
    "students_2019_to_2020[\"Facility\"] = 100 * students_2019_to_2020[\"CorrectCount\"] / students_2019_to_2020[\"AnswersCount\"]"
   ]
  },
  {
   "cell_type": "code",
   "execution_count": 18,
   "metadata": {},
   "outputs": [],
   "source": [
    "students_2019_to_2020 = pd.merge(students_2019_to_2020, students_metadata, left_on=\"UserId\", right_index=True, how=\"inner\") "
   ]
  },
  {
   "cell_type": "code",
   "execution_count": 19,
   "metadata": {},
   "outputs": [
    {
     "data": {
      "text/html": [
       "<div>\n",
       "<style scoped>\n",
       "    .dataframe tbody tr th:only-of-type {\n",
       "        vertical-align: middle;\n",
       "    }\n",
       "\n",
       "    .dataframe tbody tr th {\n",
       "        vertical-align: top;\n",
       "    }\n",
       "\n",
       "    .dataframe thead th {\n",
       "        text-align: right;\n",
       "    }\n",
       "</style>\n",
       "<table border=\"1\" class=\"dataframe\">\n",
       "  <thead>\n",
       "    <tr style=\"text-align: right;\">\n",
       "      <th></th>\n",
       "      <th>AnswersCount</th>\n",
       "      <th>MeanConfidence</th>\n",
       "      <th>CorrectCount</th>\n",
       "      <th>IncorrectCount</th>\n",
       "      <th>Facility</th>\n",
       "      <th>Gender</th>\n",
       "      <th>AgeSept2018</th>\n",
       "      <th>IsAdvantaged</th>\n",
       "      <th>age_group_sept_2018</th>\n",
       "      <th>AgeSept2019</th>\n",
       "      <th>age_group_sept_2019</th>\n",
       "    </tr>\n",
       "    <tr>\n",
       "      <th>UserId</th>\n",
       "      <th></th>\n",
       "      <th></th>\n",
       "      <th></th>\n",
       "      <th></th>\n",
       "      <th></th>\n",
       "      <th></th>\n",
       "      <th></th>\n",
       "      <th></th>\n",
       "      <th></th>\n",
       "      <th></th>\n",
       "      <th></th>\n",
       "    </tr>\n",
       "  </thead>\n",
       "  <tbody>\n",
       "    <tr>\n",
       "      <th>23</th>\n",
       "      <td>8</td>\n",
       "      <td>12.500000</td>\n",
       "      <td>3</td>\n",
       "      <td>5</td>\n",
       "      <td>37.500000</td>\n",
       "      <td>male</td>\n",
       "      <td>14</td>\n",
       "      <td>1</td>\n",
       "      <td>14-16</td>\n",
       "      <td>15</td>\n",
       "      <td>14-16</td>\n",
       "    </tr>\n",
       "    <tr>\n",
       "      <th>39</th>\n",
       "      <td>18</td>\n",
       "      <td>100.000000</td>\n",
       "      <td>18</td>\n",
       "      <td>0</td>\n",
       "      <td>100.000000</td>\n",
       "      <td>female</td>\n",
       "      <td>12</td>\n",
       "      <td>1</td>\n",
       "      <td>11-13</td>\n",
       "      <td>13</td>\n",
       "      <td>11-13</td>\n",
       "    </tr>\n",
       "    <tr>\n",
       "      <th>46</th>\n",
       "      <td>9</td>\n",
       "      <td>66.666667</td>\n",
       "      <td>8</td>\n",
       "      <td>1</td>\n",
       "      <td>88.888889</td>\n",
       "      <td>female</td>\n",
       "      <td>14</td>\n",
       "      <td>1</td>\n",
       "      <td>14-16</td>\n",
       "      <td>15</td>\n",
       "      <td>14-16</td>\n",
       "    </tr>\n",
       "    <tr>\n",
       "      <th>48</th>\n",
       "      <td>10</td>\n",
       "      <td>80.000000</td>\n",
       "      <td>8</td>\n",
       "      <td>2</td>\n",
       "      <td>80.000000</td>\n",
       "      <td>female</td>\n",
       "      <td>14</td>\n",
       "      <td>1</td>\n",
       "      <td>14-16</td>\n",
       "      <td>15</td>\n",
       "      <td>14-16</td>\n",
       "    </tr>\n",
       "    <tr>\n",
       "      <th>70</th>\n",
       "      <td>9</td>\n",
       "      <td>63.888889</td>\n",
       "      <td>8</td>\n",
       "      <td>1</td>\n",
       "      <td>88.888889</td>\n",
       "      <td>female</td>\n",
       "      <td>14</td>\n",
       "      <td>1</td>\n",
       "      <td>14-16</td>\n",
       "      <td>15</td>\n",
       "      <td>14-16</td>\n",
       "    </tr>\n",
       "  </tbody>\n",
       "</table>\n",
       "</div>"
      ],
      "text/plain": [
       "        AnswersCount  MeanConfidence  CorrectCount  IncorrectCount  \\\n",
       "UserId                                                               \n",
       "23                 8       12.500000             3               5   \n",
       "39                18      100.000000            18               0   \n",
       "46                 9       66.666667             8               1   \n",
       "48                10       80.000000             8               2   \n",
       "70                 9       63.888889             8               1   \n",
       "\n",
       "          Facility  Gender  AgeSept2018  IsAdvantaged age_group_sept_2018  \\\n",
       "UserId                                                                      \n",
       "23       37.500000    male           14             1               14-16   \n",
       "39      100.000000  female           12             1               11-13   \n",
       "46       88.888889  female           14             1               14-16   \n",
       "48       80.000000  female           14             1               14-16   \n",
       "70       88.888889  female           14             1               14-16   \n",
       "\n",
       "        AgeSept2019 age_group_sept_2019  \n",
       "UserId                                   \n",
       "23               15               14-16  \n",
       "39               13               11-13  \n",
       "46               15               14-16  \n",
       "48               15               14-16  \n",
       "70               15               14-16  "
      ]
     },
     "execution_count": 19,
     "metadata": {},
     "output_type": "execute_result"
    }
   ],
   "source": [
    "students_2019_to_2020.head()"
   ]
  },
  {
   "cell_type": "code",
   "execution_count": 20,
   "metadata": {},
   "outputs": [],
   "source": [
    "answers_2019_to_2020 = pd.merge(answers_raw_2019_to_2020, students_2019_to_2020, left_on=\"UserId\", right_index=True, how=\"inner\")"
   ]
  },
  {
   "cell_type": "code",
   "execution_count": 21,
   "metadata": {},
   "outputs": [
    {
     "data": {
      "text/html": [
       "<div>\n",
       "<style scoped>\n",
       "    .dataframe tbody tr th:only-of-type {\n",
       "        vertical-align: middle;\n",
       "    }\n",
       "\n",
       "    .dataframe tbody tr th {\n",
       "        vertical-align: top;\n",
       "    }\n",
       "\n",
       "    .dataframe thead th {\n",
       "        text-align: right;\n",
       "    }\n",
       "</style>\n",
       "<table border=\"1\" class=\"dataframe\">\n",
       "  <thead>\n",
       "    <tr style=\"text-align: right;\">\n",
       "      <th></th>\n",
       "      <th>UserId</th>\n",
       "      <th>QuestionId</th>\n",
       "      <th>Confidence</th>\n",
       "      <th>DateAnswered</th>\n",
       "      <th>IsCorrect</th>\n",
       "      <th>QuizBAnswerId</th>\n",
       "      <th>QuizBQuestionId</th>\n",
       "      <th>QuizBConfidence</th>\n",
       "      <th>QuizBDateAnswered</th>\n",
       "      <th>QuizBIsCorrect</th>\n",
       "      <th>...</th>\n",
       "      <th>MeanConfidence</th>\n",
       "      <th>CorrectCount</th>\n",
       "      <th>IncorrectCount</th>\n",
       "      <th>Facility</th>\n",
       "      <th>Gender</th>\n",
       "      <th>AgeSept2018</th>\n",
       "      <th>IsAdvantaged</th>\n",
       "      <th>age_group_sept_2018</th>\n",
       "      <th>AgeSept2019</th>\n",
       "      <th>age_group_sept_2019</th>\n",
       "    </tr>\n",
       "    <tr>\n",
       "      <th>AnswerId</th>\n",
       "      <th></th>\n",
       "      <th></th>\n",
       "      <th></th>\n",
       "      <th></th>\n",
       "      <th></th>\n",
       "      <th></th>\n",
       "      <th></th>\n",
       "      <th></th>\n",
       "      <th></th>\n",
       "      <th></th>\n",
       "      <th></th>\n",
       "      <th></th>\n",
       "      <th></th>\n",
       "      <th></th>\n",
       "      <th></th>\n",
       "      <th></th>\n",
       "      <th></th>\n",
       "      <th></th>\n",
       "      <th></th>\n",
       "      <th></th>\n",
       "      <th></th>\n",
       "    </tr>\n",
       "  </thead>\n",
       "  <tbody>\n",
       "    <tr>\n",
       "      <th>238512</th>\n",
       "      <td>11585</td>\n",
       "      <td>8303</td>\n",
       "      <td>100</td>\n",
       "      <td>2019-09-01 15:47:51.317</td>\n",
       "      <td>0</td>\n",
       "      <td>NaN</td>\n",
       "      <td>NaN</td>\n",
       "      <td>NaN</td>\n",
       "      <td>NaT</td>\n",
       "      <td>NaN</td>\n",
       "      <td>...</td>\n",
       "      <td>100.0</td>\n",
       "      <td>7</td>\n",
       "      <td>18</td>\n",
       "      <td>28.0</td>\n",
       "      <td>female</td>\n",
       "      <td>13</td>\n",
       "      <td>1</td>\n",
       "      <td>11-13</td>\n",
       "      <td>14</td>\n",
       "      <td>14-16</td>\n",
       "    </tr>\n",
       "    <tr>\n",
       "      <th>238504</th>\n",
       "      <td>11585</td>\n",
       "      <td>8300</td>\n",
       "      <td>100</td>\n",
       "      <td>2019-09-01 15:45:03.767</td>\n",
       "      <td>0</td>\n",
       "      <td>NaN</td>\n",
       "      <td>NaN</td>\n",
       "      <td>NaN</td>\n",
       "      <td>NaT</td>\n",
       "      <td>NaN</td>\n",
       "      <td>...</td>\n",
       "      <td>100.0</td>\n",
       "      <td>7</td>\n",
       "      <td>18</td>\n",
       "      <td>28.0</td>\n",
       "      <td>female</td>\n",
       "      <td>13</td>\n",
       "      <td>1</td>\n",
       "      <td>11-13</td>\n",
       "      <td>14</td>\n",
       "      <td>14-16</td>\n",
       "    </tr>\n",
       "    <tr>\n",
       "      <th>238515</th>\n",
       "      <td>11585</td>\n",
       "      <td>8305</td>\n",
       "      <td>100</td>\n",
       "      <td>2019-09-01 15:48:45.837</td>\n",
       "      <td>0</td>\n",
       "      <td>NaN</td>\n",
       "      <td>NaN</td>\n",
       "      <td>NaN</td>\n",
       "      <td>NaT</td>\n",
       "      <td>NaN</td>\n",
       "      <td>...</td>\n",
       "      <td>100.0</td>\n",
       "      <td>7</td>\n",
       "      <td>18</td>\n",
       "      <td>28.0</td>\n",
       "      <td>female</td>\n",
       "      <td>13</td>\n",
       "      <td>1</td>\n",
       "      <td>11-13</td>\n",
       "      <td>14</td>\n",
       "      <td>14-16</td>\n",
       "    </tr>\n",
       "    <tr>\n",
       "      <th>238505</th>\n",
       "      <td>11585</td>\n",
       "      <td>8301</td>\n",
       "      <td>100</td>\n",
       "      <td>2019-09-01 15:45:26.887</td>\n",
       "      <td>0</td>\n",
       "      <td>NaN</td>\n",
       "      <td>NaN</td>\n",
       "      <td>NaN</td>\n",
       "      <td>NaT</td>\n",
       "      <td>NaN</td>\n",
       "      <td>...</td>\n",
       "      <td>100.0</td>\n",
       "      <td>7</td>\n",
       "      <td>18</td>\n",
       "      <td>28.0</td>\n",
       "      <td>female</td>\n",
       "      <td>13</td>\n",
       "      <td>1</td>\n",
       "      <td>11-13</td>\n",
       "      <td>14</td>\n",
       "      <td>14-16</td>\n",
       "    </tr>\n",
       "    <tr>\n",
       "      <th>238520</th>\n",
       "      <td>11585</td>\n",
       "      <td>8307</td>\n",
       "      <td>100</td>\n",
       "      <td>2019-09-01 15:49:27.383</td>\n",
       "      <td>0</td>\n",
       "      <td>NaN</td>\n",
       "      <td>NaN</td>\n",
       "      <td>NaN</td>\n",
       "      <td>NaT</td>\n",
       "      <td>NaN</td>\n",
       "      <td>...</td>\n",
       "      <td>100.0</td>\n",
       "      <td>7</td>\n",
       "      <td>18</td>\n",
       "      <td>28.0</td>\n",
       "      <td>female</td>\n",
       "      <td>13</td>\n",
       "      <td>1</td>\n",
       "      <td>11-13</td>\n",
       "      <td>14</td>\n",
       "      <td>14-16</td>\n",
       "    </tr>\n",
       "  </tbody>\n",
       "</table>\n",
       "<p>5 rows × 22 columns</p>\n",
       "</div>"
      ],
      "text/plain": [
       "          UserId  QuestionId  Confidence            DateAnswered  IsCorrect  \\\n",
       "AnswerId                                                                      \n",
       "238512     11585        8303         100 2019-09-01 15:47:51.317          0   \n",
       "238504     11585        8300         100 2019-09-01 15:45:03.767          0   \n",
       "238515     11585        8305         100 2019-09-01 15:48:45.837          0   \n",
       "238505     11585        8301         100 2019-09-01 15:45:26.887          0   \n",
       "238520     11585        8307         100 2019-09-01 15:49:27.383          0   \n",
       "\n",
       "          QuizBAnswerId  QuizBQuestionId  QuizBConfidence QuizBDateAnswered  \\\n",
       "AnswerId                                                                      \n",
       "238512              NaN              NaN              NaN               NaT   \n",
       "238504              NaN              NaN              NaN               NaT   \n",
       "238515              NaN              NaN              NaN               NaT   \n",
       "238505              NaN              NaN              NaN               NaT   \n",
       "238520              NaN              NaN              NaN               NaT   \n",
       "\n",
       "          QuizBIsCorrect  ...  MeanConfidence  CorrectCount  IncorrectCount  \\\n",
       "AnswerId                  ...                                                 \n",
       "238512               NaN  ...           100.0             7              18   \n",
       "238504               NaN  ...           100.0             7              18   \n",
       "238515               NaN  ...           100.0             7              18   \n",
       "238505               NaN  ...           100.0             7              18   \n",
       "238520               NaN  ...           100.0             7              18   \n",
       "\n",
       "          Facility  Gender  AgeSept2018 IsAdvantaged  age_group_sept_2018  \\\n",
       "AnswerId                                                                    \n",
       "238512        28.0  female           13            1                11-13   \n",
       "238504        28.0  female           13            1                11-13   \n",
       "238515        28.0  female           13            1                11-13   \n",
       "238505        28.0  female           13            1                11-13   \n",
       "238520        28.0  female           13            1                11-13   \n",
       "\n",
       "          AgeSept2019 age_group_sept_2019  \n",
       "AnswerId                                   \n",
       "238512             14               14-16  \n",
       "238504             14               14-16  \n",
       "238515             14               14-16  \n",
       "238505             14               14-16  \n",
       "238520             14               14-16  \n",
       "\n",
       "[5 rows x 22 columns]"
      ]
     },
     "execution_count": 21,
     "metadata": {},
     "output_type": "execute_result"
    }
   ],
   "source": [
    "answers_2019_to_2020.head()"
   ]
  },
  {
   "cell_type": "code",
   "execution_count": 22,
   "metadata": {},
   "outputs": [],
   "source": [
    "confidence_values = [0, 25, 50, 75, 100]\n",
    "facility_values = [0, 25, 50, 75, 100]"
   ]
  },
  {
   "cell_type": "code",
   "execution_count": 23,
   "metadata": {},
   "outputs": [],
   "source": [
    "answers_without_confidence = pd.read_csv(\"input/answers_without_confidence.csv\", \n",
    "    dtype = { \n",
    "        \"Platform\": \"object\",\n",
    "        \"Period\": \"object\",\n",
    "        \"QuizAAnswersCount\": \"int64\",\n",
    "        \"CorrectQuizAAnswersCount\": \"int64\",\n",
    "        \"IncorrectQuizAAnswersCount\": \"int64\",\n",
    "        \"ReviewedQuizAAnswersCount\": \"int64\",\n",
    "        \"QuizBAnswersCount\": \"int64\",\n",
    "        \"CorrectQuizBAnswersCount\": \"int64\",\n",
    "        \"IncorrectQuizAQuizBAnswersCount\": \"int64\",\n",
    "        \"IncorrectQuizACorrectQuizBAnswersCount\": \"int64\",\n",
    "        \"QuizACorrectionsCount\": \"int64\",\n",
    "        \"CorrectQuizACorrectionsCount\": \"int64\" \n",
    "    })"
   ]
  },
  {
   "cell_type": "code",
   "execution_count": 24,
   "metadata": {},
   "outputs": [],
   "source": [
    "answers_without_confidence[\"IncorrectQuizAQuizBAnswersPercentage\"] = 100 * answers_without_confidence[\"IncorrectQuizAQuizBAnswersCount\"] / answers_without_confidence[\"IncorrectQuizAAnswersCount\"]\n",
    "\n",
    "answers_without_confidence[\"IncorrectQuizACorrectQuizBAnswersPercentage\"] = 100 * answers_without_confidence[\"IncorrectQuizACorrectQuizBAnswersCount\"] / answers_without_confidence[\"IncorrectQuizAQuizBAnswersCount\"]"
   ]
  },
  {
   "cell_type": "code",
   "execution_count": 25,
   "metadata": {},
   "outputs": [],
   "source": [
    "answers_without_confidence = answers_without_confidence.query('Platform == \"Eedi Web (No Confidence)\" and Period == \"All\"').iloc[0]"
   ]
  },
  {
   "cell_type": "markdown",
   "metadata": {},
   "source": [
    "# 3 Method\n",
    "\n",
    "## 3.1 Participants\n"
   ]
  },
  {
   "cell_type": "code",
   "execution_count": 26,
   "metadata": {},
   "outputs": [
    {
     "name": "stdout",
     "output_type": "stream",
     "text": [
      "Number of quiz A answers:\t219826\n",
      "Number of quiz A students:\t7302\n",
      "Number of quiz B answers:\t119211\n",
      "Number of quiz B students:\t4123\n",
      "Min date:\t\t\t2019-03-07 00:28:38.703000\n",
      "Max date:\t\t\t2020-05-09 21:11:01.123000\n"
     ]
    }
   ],
   "source": [
    "print(f\"Number of quiz A answers:\\t{len(answers)}\")\n",
    "print(f\"Number of quiz A students:\\t{answers['UserId'].nunique()}\")\n",
    "print(f\"Number of quiz B answers:\\t{sum(answers['QuizBAnswerId'].notnull())}\")\n",
    "print(f\"Number of quiz B students:\\t{answers[answers['QuizBAnswerId'].notnull()]['UserId'].nunique()}\")\n",
    "print(f\"Min date:\\t\\t\\t{answers['DateAnswered'].min()}\")\n",
    "print(f\"Max date:\\t\\t\\t{answers['DateAnswered'].max()}\")  "
   ]
  },
  {
   "cell_type": "code",
   "execution_count": 27,
   "metadata": {
    "scrolled": true
   },
   "outputs": [
    {
     "data": {
      "text/plain": [
       "Gender\n",
       "female    3586\n",
       "male      3716\n",
       "dtype: int64"
      ]
     },
     "execution_count": 27,
     "metadata": {},
     "output_type": "execute_result"
    }
   ],
   "source": [
    "students.groupby(\"Gender\").size()"
   ]
  },
  {
   "cell_type": "code",
   "execution_count": 28,
   "metadata": {},
   "outputs": [
    {
     "data": {
      "text/plain": [
       "age_group_sept_2018\n",
       "11-13    2680\n",
       "14-16    1653\n",
       "5-6        59\n",
       "7-10     2910\n",
       "dtype: int64"
      ]
     },
     "execution_count": 28,
     "metadata": {},
     "output_type": "execute_result"
    }
   ],
   "source": [
    "students.groupby(\"age_group_sept_2018\").size()"
   ]
  },
  {
   "cell_type": "code",
   "execution_count": 29,
   "metadata": {
    "scrolled": true
   },
   "outputs": [
    {
     "data": {
      "text/plain": [
       "IsAdvantaged\n",
       "0    1541\n",
       "1    5761\n",
       "dtype: int64"
      ]
     },
     "execution_count": 29,
     "metadata": {},
     "output_type": "execute_result"
    }
   ],
   "source": [
    "students.groupby(\"IsAdvantaged\").size()"
   ]
  },
  {
   "cell_type": "code",
   "execution_count": 30,
   "metadata": {},
   "outputs": [
    {
     "name": "stdout",
     "output_type": "stream",
     "text": [
      "Number of quiz A answers:\t168922\n",
      "Number of quiz A students:\t5382\n",
      "Number of quiz B answers:\t97190\n",
      "Number of quiz B students:\t3216\n",
      "Min date:\t\t\t2019-09-01 15:44:34.157000\n",
      "Max date:\t\t\t2020-05-09 21:11:01.123000\n"
     ]
    }
   ],
   "source": [
    "print(f\"Number of quiz A answers:\\t{len(answers_2019_to_2020)}\")\n",
    "print(f\"Number of quiz A students:\\t{answers_2019_to_2020['UserId'].nunique()}\")\n",
    "print(f\"Number of quiz B answers:\\t{sum(answers_2019_to_2020['QuizBAnswerId'].notnull())}\")\n",
    "print(f\"Number of quiz B students:\\t{answers_2019_to_2020[answers_2019_to_2020['QuizBAnswerId'].notnull()]['UserId'].nunique()}\")\n",
    "print(f\"Min date:\\t\\t\\t{answers_2019_to_2020['DateAnswered'].min()}\")\n",
    "print(f\"Max date:\\t\\t\\t{answers_2019_to_2020['DateAnswered'].max()}\")     "
   ]
  },
  {
   "cell_type": "code",
   "execution_count": 31,
   "metadata": {},
   "outputs": [
    {
     "data": {
      "text/plain": [
       "Gender\n",
       "female    2561\n",
       "male      2821\n",
       "dtype: int64"
      ]
     },
     "execution_count": 31,
     "metadata": {},
     "output_type": "execute_result"
    }
   ],
   "source": [
    "students_2019_to_2020.groupby(\"Gender\").size()"
   ]
  },
  {
   "cell_type": "code",
   "execution_count": 32,
   "metadata": {},
   "outputs": [
    {
     "data": {
      "text/plain": [
       "age_group_sept_2019\n",
       "11-13    3339\n",
       "14-16    1514\n",
       "7-10      529\n",
       "dtype: int64"
      ]
     },
     "execution_count": 32,
     "metadata": {},
     "output_type": "execute_result"
    }
   ],
   "source": [
    "students_2019_to_2020.groupby(\"age_group_sept_2019\").size()"
   ]
  },
  {
   "cell_type": "code",
   "execution_count": 33,
   "metadata": {},
   "outputs": [
    {
     "data": {
      "text/plain": [
       "IsAdvantaged\n",
       "0    1196\n",
       "1    4186\n",
       "dtype: int64"
      ]
     },
     "execution_count": 33,
     "metadata": {},
     "output_type": "execute_result"
    }
   ],
   "source": [
    "students_2019_to_2020.groupby(\"IsAdvantaged\").size()"
   ]
  },
  {
   "cell_type": "markdown",
   "metadata": {},
   "source": [
    "# 4 Results\n",
    "\n",
    "## 4.1 How are students’ confidence ratings related to their mean facility, age, gender, socioeconomic disadvantage and mathematical topic?"
   ]
  },
  {
   "cell_type": "markdown",
   "metadata": {},
   "source": [
    "#### Table 1 Sociodemographic characteristics of participants"
   ]
  },
  {
   "cell_type": "code",
   "execution_count": 34,
   "metadata": {},
   "outputs": [],
   "source": [
    "students[\"IsMale\"] = np.where(students[\"Gender\"] == \"male\", 1, 0)"
   ]
  },
  {
   "cell_type": "code",
   "execution_count": 35,
   "metadata": {},
   "outputs": [],
   "source": [
    "students_41 = students[[\"MeanConfidence\", \"Facility\", \"AgeSept2018\", \"IsMale\", \"IsAdvantaged\"]]"
   ]
  },
  {
   "cell_type": "code",
   "execution_count": 36,
   "metadata": {},
   "outputs": [
    {
     "data": {
      "text/plain": [
       "MeanConfidence    68.32\n",
       "Facility          57.81\n",
       "AgeSept2018       11.41\n",
       "dtype: float64"
      ]
     },
     "execution_count": 36,
     "metadata": {},
     "output_type": "execute_result"
    }
   ],
   "source": [
    "np.mean(students_41[[\"MeanConfidence\", \"Facility\", \"AgeSept2018\"]]).round(2)"
   ]
  },
  {
   "cell_type": "code",
   "execution_count": 37,
   "metadata": {},
   "outputs": [
    {
     "data": {
      "text/plain": [
       "MeanConfidence    22.04\n",
       "Facility          22.07\n",
       "AgeSept2018        2.01\n",
       "dtype: float64"
      ]
     },
     "execution_count": 37,
     "metadata": {},
     "output_type": "execute_result"
    }
   ],
   "source": [
    "np.std(students_41[[\"MeanConfidence\", \"Facility\", \"AgeSept2018\"]]).round(2)"
   ]
  },
  {
   "cell_type": "markdown",
   "metadata": {},
   "source": [
    "#### Table 2 Correlation matrix for the 5 variables"
   ]
  },
  {
   "cell_type": "code",
   "execution_count": 38,
   "metadata": {},
   "outputs": [
    {
     "name": "stdout",
     "output_type": "stream",
     "text": [
      "rs(MeanConfidence, Facility) = 0.504, p < .001\n",
      "rs(MeanConfidence, AgeSept2018) = -0.140, p < .001\n",
      "rs(MeanConfidence, IsMale) = 0.134, p < .001\n",
      "rs(MeanConfidence, IsAdvantaged) = 0.094, p < .001\n",
      "rs(Facility, AgeSept2018) = -0.053, p < .001\n",
      "rs(Facility, IsMale) = -0.013, p = .253\n",
      "rs(Facility, IsAdvantaged) = 0.141, p < .001\n",
      "rs(AgeSept2018, IsMale) = 0.032, p = .006\n",
      "rs(AgeSept2018, IsAdvantaged) = 0.013, p = .257\n",
      "rs(IsMale, IsAdvantaged) = 0.002, p = .854\n"
     ]
    }
   ],
   "source": [
    "rs, p = stats.spearmanr(students_41)\n",
    "rs = rs.round(decimals=3)\n",
    "\n",
    "for i in range(0,len(students_41.columns)):\n",
    "    for j in range(i+1,len(students_41.columns)):\n",
    "        print(f\"rs({students_41.columns[i]}, {students_41.columns[j]}) = {rs[i][j]:.3f}, {apaStylePValue(p[i][j])}\")"
   ]
  },
  {
   "cell_type": "code",
   "execution_count": 39,
   "metadata": {},
   "outputs": [],
   "source": [
    "import statsmodels.api as sm\n",
    "import statsmodels.formula.api as smf\n",
    "\n",
    "students_41_scaled = students_41.copy()\n",
    "students_41_scaled[[\"MeanConfidence\",\"Facility\", \"AgeSept2018\"]] = students_41_scaled[[\"MeanConfidence\",\"Facility\", \"AgeSept2018\"]].apply(lambda x: (x - x.mean())/x.std())\n",
    "\n",
    "### Check out how to use R formula syntax here...\n",
    "### https://www.statsmodels.org/dev/example_formulas.html"
   ]
  },
  {
   "cell_type": "markdown",
   "metadata": {},
   "source": [
    "#### Table 3 Multiple regression with 4 predictors of confidence"
   ]
  },
  {
   "cell_type": "code",
   "execution_count": 40,
   "metadata": {},
   "outputs": [
    {
     "name": "stdout",
     "output_type": "stream",
     "text": [
      "                            OLS Regression Results                            \n",
      "==============================================================================\n",
      "Dep. Variable:         MeanConfidence   R-squared:                       0.279\n",
      "Model:                            OLS   Adj. R-squared:                  0.279\n",
      "Method:                 Least Squares   F-statistic:                     706.4\n",
      "Date:                Sun, 13 Feb 2022   Prob (F-statistic):               0.00\n",
      "Time:                        08:37:40   Log-Likelihood:                -9165.6\n",
      "No. Observations:                7302   AIC:                         1.834e+04\n",
      "Df Residuals:                    7297   BIC:                         1.838e+04\n",
      "Df Model:                           4                                         \n",
      "Covariance Type:            nonrobust                                         \n",
      "================================================================================\n",
      "                   coef    std err          t      P>|t|      [0.025      0.975]\n",
      "--------------------------------------------------------------------------------\n",
      "Intercept       -0.2062      0.024     -8.588      0.000      -0.253      -0.159\n",
      "Facility         0.4871      0.010     48.451      0.000       0.467       0.507\n",
      "AgeSept2018     -0.1167      0.010    -11.715      0.000      -0.136      -0.097\n",
      "IsMale           0.2790      0.020     14.026      0.000       0.240       0.318\n",
      "IsAdvantaged     0.0814      0.025      3.308      0.001       0.033       0.130\n",
      "==============================================================================\n",
      "Omnibus:                      427.433   Durbin-Watson:                   1.945\n",
      "Prob(Omnibus):                  0.000   Jarque-Bera (JB):              537.886\n",
      "Skew:                          -0.571   Prob(JB):                    1.58e-117\n",
      "Kurtosis:                       3.681   Cond. No.                         4.69\n",
      "==============================================================================\n",
      "\n",
      "Notes:\n",
      "[1] Standard Errors assume that the covariance matrix of the errors is correctly specified.\n"
     ]
    }
   ],
   "source": [
    "model_simple = smf.ols(formula=\"MeanConfidence~Facility+AgeSept2018+IsMale+IsAdvantaged\", data=students_41_scaled)\n",
    "result_simple = model_simple.fit()\n",
    "print(result_simple.summary())"
   ]
  },
  {
   "cell_type": "markdown",
   "metadata": {},
   "source": [
    "#### Table 4 Multiple regression with 4 predictors and all 2-way interactions"
   ]
  },
  {
   "cell_type": "code",
   "execution_count": 41,
   "metadata": {},
   "outputs": [
    {
     "name": "stdout",
     "output_type": "stream",
     "text": [
      "                            OLS Regression Results                            \n",
      "==============================================================================\n",
      "Dep. Variable:         MeanConfidence   R-squared:                       0.280\n",
      "Model:                            OLS   Adj. R-squared:                  0.279\n",
      "Method:                 Least Squares   F-statistic:                     284.0\n",
      "Date:                Sun, 13 Feb 2022   Prob (F-statistic):               0.00\n",
      "Time:                        08:37:40   Log-Likelihood:                -9159.5\n",
      "No. Observations:                7302   AIC:                         1.834e+04\n",
      "Df Residuals:                    7291   BIC:                         1.842e+04\n",
      "Df Model:                          10                                         \n",
      "Covariance Type:            nonrobust                                         \n",
      "============================================================================================\n",
      "                               coef    std err          t      P>|t|      [0.025      0.975]\n",
      "--------------------------------------------------------------------------------------------\n",
      "Intercept                   -0.1859      0.032     -5.882      0.000      -0.248      -0.124\n",
      "Facility                     0.5221      0.024     21.893      0.000       0.475       0.569\n",
      "AgeSept2018                 -0.1207      0.026     -4.731      0.000      -0.171      -0.071\n",
      "IsMale                       0.2429      0.044      5.560      0.000       0.157       0.329\n",
      "IsAdvantaged                 0.0559      0.036      1.574      0.115      -0.014       0.126\n",
      "Facility:AgeSept2018         0.0144      0.010      1.449      0.147      -0.005       0.034\n",
      "Facility:IsMale             -0.0515      0.020     -2.555      0.011      -0.091      -0.012\n",
      "Facility:IsAdvantaged       -0.0111      0.024     -0.454      0.650      -0.059       0.037\n",
      "AgeSept2018:IsMale           0.0306      0.020      1.536      0.124      -0.008       0.070\n",
      "AgeSept2018:IsAdvantaged    -0.0176      0.026     -0.672      0.502      -0.069       0.034\n",
      "IsMale:IsAdvantaged          0.0468      0.049      0.949      0.342      -0.050       0.143\n",
      "==============================================================================\n",
      "Omnibus:                      433.905   Durbin-Watson:                   1.945\n",
      "Prob(Omnibus):                  0.000   Jarque-Bera (JB):              548.943\n",
      "Skew:                          -0.575   Prob(JB):                    6.29e-120\n",
      "Kurtosis:                       3.695   Cond. No.                         11.2\n",
      "==============================================================================\n",
      "\n",
      "Notes:\n",
      "[1] Standard Errors assume that the covariance matrix of the errors is correctly specified.\n"
     ]
    }
   ],
   "source": [
    "model_pairwise = smf.ols(formula=\"MeanConfidence~(Facility+AgeSept2018+IsMale+IsAdvantaged)**2\", data=students_41_scaled)\n",
    "result_pairwise = model_pairwise.fit()\n",
    "print(result_pairwise.summary())"
   ]
  },
  {
   "cell_type": "markdown",
   "metadata": {},
   "source": [
    "### 4.1.1 Facility\n",
    "\n",
    "#### Figure 2 Mean confidence against mean facility"
   ]
  },
  {
   "cell_type": "code",
   "execution_count": 42,
   "metadata": {},
   "outputs": [
    {
     "name": "stdout",
     "output_type": "stream",
     "text": [
      "Student confidence versus facility (rs(7300) = .504, p < .001)\n"
     ]
    },
    {
     "data": {
      "image/png": "[encoded data removed]",
      "text/plain": [
       "<Figure size 330.709x330.709 with 1 Axes>"
      ]
     },
     "metadata": {},
     "output_type": "display_data"
    }
   ],
   "source": [
    "set_style()\n",
    "\n",
    "fig, ax = plt.subplots(1, 1, figsize=(width_inches_one_column, width_inches_one_column), constrained_layout=True)\n",
    "\n",
    "x = students[\"Facility\"]\n",
    "y = students[\"MeanConfidence\"]\n",
    "s = students[\"AnswersCount\"]\n",
    "\n",
    "r, p = stats.spearmanr(x, y)\n",
    "n = len(x)\n",
    "df = n - 2\n",
    "\n",
    "ax.scatter(x, y, s=s, alpha=0.1, edgecolors='none')\n",
    "ax.set_xlabel(\"Facility (%)\")\n",
    "ax.set_ylabel(\"Confidence (%)\")\n",
    "\n",
    "ax.set_xticks(facility_values)\n",
    "ax.set_xticklabels(facility_values)\n",
    "\n",
    "ax.set_yticks(confidence_values)\n",
    "ax.set_yticklabels(confidence_values)\n",
    "\n",
    "ax.set(aspect=1.0)\n",
    "\n",
    "print(f\"Student confidence versus facility {apaStyleCombined(r, p, df, 'rs')}\")\n",
    "\n",
    "ax.plot([0,100], [0,100], color=\"C2\", linestyle='--', linewidth=2)\n",
    "\n",
    "l1 = ax.scatter([],[], s=10, edgecolors='none', alpha=0.1, color=\"C0\")\n",
    "l2 = ax.scatter([],[], s=50, edgecolors='none', alpha=0.1, color=\"C0\")\n",
    "l3 = ax.scatter([],[], s=100, edgecolors='none', alpha=0.1, color=\"C0\")\n",
    "\n",
    "labels = [\"10\", \"50\", \"100\"]\n",
    "\n",
    "leg = ax.legend([l1, l2, l3], labels, title='No. Answers')\n",
    "      \n",
    "#export_fig(fig, \"./images/Fig2\")"
   ]
  },
  {
   "cell_type": "markdown",
   "metadata": {},
   "source": [
    "#### Table 5 The percentage of correct answers by confidence"
   ]
  },
  {
   "cell_type": "code",
   "execution_count": 43,
   "metadata": {},
   "outputs": [
    {
     "data": {
      "text/html": [
       "<div>\n",
       "<style scoped>\n",
       "    .dataframe tbody tr th:only-of-type {\n",
       "        vertical-align: middle;\n",
       "    }\n",
       "\n",
       "    .dataframe tbody tr th {\n",
       "        vertical-align: top;\n",
       "    }\n",
       "\n",
       "    .dataframe thead th {\n",
       "        text-align: right;\n",
       "    }\n",
       "</style>\n",
       "<table border=\"1\" class=\"dataframe\">\n",
       "  <thead>\n",
       "    <tr style=\"text-align: right;\">\n",
       "      <th></th>\n",
       "      <th>AnswersCount</th>\n",
       "      <th>CorrectCount</th>\n",
       "      <th>CorrectPercentageMean</th>\n",
       "      <th>CorrectPercentageStd</th>\n",
       "    </tr>\n",
       "    <tr>\n",
       "      <th>Confidence</th>\n",
       "      <th></th>\n",
       "      <th></th>\n",
       "      <th></th>\n",
       "      <th></th>\n",
       "    </tr>\n",
       "  </thead>\n",
       "  <tbody>\n",
       "    <tr>\n",
       "      <th>0</th>\n",
       "      <td>20694.0</td>\n",
       "      <td>6773.0</td>\n",
       "      <td>32.7</td>\n",
       "      <td>46.9</td>\n",
       "    </tr>\n",
       "    <tr>\n",
       "      <th>25</th>\n",
       "      <td>11915.0</td>\n",
       "      <td>4273.0</td>\n",
       "      <td>35.9</td>\n",
       "      <td>48.0</td>\n",
       "    </tr>\n",
       "    <tr>\n",
       "      <th>50</th>\n",
       "      <td>36021.0</td>\n",
       "      <td>16326.0</td>\n",
       "      <td>45.3</td>\n",
       "      <td>49.8</td>\n",
       "    </tr>\n",
       "    <tr>\n",
       "      <th>75</th>\n",
       "      <td>51722.0</td>\n",
       "      <td>33282.0</td>\n",
       "      <td>64.3</td>\n",
       "      <td>47.9</td>\n",
       "    </tr>\n",
       "    <tr>\n",
       "      <th>100</th>\n",
       "      <td>99474.0</td>\n",
       "      <td>73028.0</td>\n",
       "      <td>73.4</td>\n",
       "      <td>44.2</td>\n",
       "    </tr>\n",
       "  </tbody>\n",
       "</table>\n",
       "</div>"
      ],
      "text/plain": [
       "            AnswersCount  CorrectCount  CorrectPercentageMean  \\\n",
       "Confidence                                                      \n",
       "0                20694.0        6773.0                   32.7   \n",
       "25               11915.0        4273.0                   35.9   \n",
       "50               36021.0       16326.0                   45.3   \n",
       "75               51722.0       33282.0                   64.3   \n",
       "100              99474.0       73028.0                   73.4   \n",
       "\n",
       "            CorrectPercentageStd  \n",
       "Confidence                        \n",
       "0                           46.9  \n",
       "25                          48.0  \n",
       "50                          49.8  \n",
       "75                          47.9  \n",
       "100                         44.2  "
      ]
     },
     "execution_count": 43,
     "metadata": {},
     "output_type": "execute_result"
    }
   ],
   "source": [
    "def my_agg(x):\n",
    "    names = {\n",
    "        \"AnswersCount\": x[\"IsCorrect\"].count(),\n",
    "        \"CorrectCount\": x[\"IsCorrect\"].eq(1).sum(),\n",
    "        \"CorrectPercentageMean\": round((100 * np.mean(x[\"IsCorrect\"])), 1),\n",
    "        \"CorrectPercentageStd\": round((100 * np.std(x[\"IsCorrect\"])), 1)}\n",
    "\n",
    "    return pd.Series(names, index=[\"AnswersCount\", \"CorrectCount\", \"CorrectPercentageMean\", \"CorrectPercentageStd\"])\n",
    "\n",
    "answers.groupby(\"Confidence\").apply(my_agg)"
   ]
  },
  {
   "cell_type": "markdown",
   "metadata": {},
   "source": [
    "#### Figure 3 Students' mean confidence on questions that they answered correctly versus their mean confidence on questions that they answered incorrectly"
   ]
  },
  {
   "cell_type": "code",
   "execution_count": 44,
   "metadata": {},
   "outputs": [],
   "source": [
    "minumum_answers = 50\n",
    "minumum_correct_and_incorrect_answers = 5"
   ]
  },
  {
   "cell_type": "code",
   "execution_count": 45,
   "metadata": {},
   "outputs": [],
   "source": [
    "students_411 = students.query(\"AnswersCount > @minumum_answers\")\n",
    "students_411 = students_411.query(\"CorrectCount > @minumum_correct_and_incorrect_answers\")\n",
    "students_411 = students_411.query(\"IncorrectCount > @minumum_correct_and_incorrect_answers\")"
   ]
  },
  {
   "cell_type": "code",
   "execution_count": 46,
   "metadata": {},
   "outputs": [
    {
     "name": "stdout",
     "output_type": "stream",
     "text": [
      "Number of answers:\t115437\n",
      "Number of students:\t1033\n"
     ]
    }
   ],
   "source": [
    "print(f\"Number of answers:\\t{sum(students_411['AnswersCount'])}\")\n",
    "print(f\"Number of students:\\t{len(students_411)}\")"
   ]
  },
  {
   "cell_type": "code",
   "execution_count": 47,
   "metadata": {},
   "outputs": [
    {
     "name": "stdout",
     "output_type": "stream",
     "text": [
      " (rs(1031) = .889, p < .001)\n"
     ]
    },
    {
     "name": "stderr",
     "output_type": "stream",
     "text": [
      "C:\\tools\\Anaconda3\\envs\\dqasc\\lib\\site-packages\\seaborn\\distributions.py:2619: FutureWarning: `distplot` is a deprecated function and will be removed in a future version. Please adapt your code to use either `displot` (a figure-level function with similar flexibility) or `histplot` (an axes-level function for histograms).\n",
      "  warnings.warn(msg, FutureWarning)\n"
     ]
    },
    {
     "data": {
      "image/png": "[encoded data removed]",
      "text/plain": [
       "<Figure size 685.039x342.52 with 2 Axes>"
      ]
     },
     "metadata": {},
     "output_type": "display_data"
    }
   ],
   "source": [
    "set_style()\n",
    "\n",
    "conf_dualplot(\n",
    "    students_411[\"MeanConfidenceIncorrectAnswers\"], \n",
    "    students_411[\"MeanConfidenceCorrectAnswers\"],\n",
    "    students_411[\"AnswersCount\"],\n",
    "    \"\",#\"Confidence when correct versus\\nincorrect for users\",\n",
    "    \"Mean Confidence when Incorrect (%)\\n\\n(a)\",\n",
    "    \"Mean Confidence when Correct (%)\",\n",
    "    students_411[\"ConfidenceDifference\"],\n",
    "    \"Mean Confidence for Correct Answers Minus\\nMean Confidence for Incorrect Answers\\n(b)\",\n",
    "    \"Number of Students\",\n",
    "    \"\",#\"Number of students by\\ndifference in confidence\",\n",
    "    0.1,\n",
    "    \"./images/Fig3\",\n",
    "    (width_inches_full_page, 0.5*width_inches_full_page))"
   ]
  },
  {
   "cell_type": "code",
   "execution_count": 48,
   "metadata": {},
   "outputs": [
    {
     "name": "stdout",
     "output_type": "stream",
     "text": [
      "A Wilcoxon signed-rank test indicated that, on average, students were more confident on questions which they got correct (Mdn = 82.8) than on those they got incorrect (Mdn = 68.8, Z = 11255.0, rs = 0.956, p < .001).\n"
     ]
    }
   ],
   "source": [
    "z, p = stats.wilcoxon(students_411[\"ConfidenceDifference\"])\n",
    "\n",
    "apaStyleStatistic(z, format=\"%.0f\")\n",
    "\n",
    "correct_median = students_411[\"MeanConfidenceCorrectAnswers\"].median()\n",
    "incorrect_median = students_411[\"MeanConfidenceIncorrectAnswers\"].median()\n",
    "\n",
    "rank_biserial_correlation = wilcoxon_signed_matched_pairs_rank_biserial_correlation(students_411[\"MeanConfidenceIncorrectAnswers\"], students_411[\"MeanConfidenceCorrectAnswers\"])\n",
    "\n",
    "print(f\"A Wilcoxon signed-rank test indicated that, on average, students were more confident on questions which they got correct (Mdn = {correct_median:.1f}) than on those they got incorrect (Mdn = {incorrect_median:.1f}, {apaStyleStatistic(z, format='%.1f')}, rs = {rank_biserial_correlation.rbc:.3f}, {apaStylePValue(p)}).\")"
   ]
  },
  {
   "cell_type": "code",
   "execution_count": 49,
   "metadata": {},
   "outputs": [
    {
     "name": "stdout",
     "output_type": "stream",
     "text": [
      "A Kruskal-Wallis test found a difference in the number of correct attempts by answers with different confidence (H(4) = 20487.1, p < .001).\n"
     ]
    }
   ],
   "source": [
    "answers_0 = answers.query(\"Confidence == 0\")[\"IsCorrect\"]\n",
    "answers_25 = answers.query(\"Confidence == 25\")[\"IsCorrect\"]\n",
    "answers_50 = answers.query(\"Confidence == 50\")[\"IsCorrect\"]\n",
    "answers_75 = answers.query(\"Confidence == 75\")[\"IsCorrect\"]\n",
    "answers_100 = answers.query(\"Confidence == 100\")[\"IsCorrect\"]\n",
    "\n",
    "s, p = stats.kruskal(answers_0, answers_25, answers_50, answers_75, answers_100)\n",
    "\n",
    "print(f\"A Kruskal-Wallis test found a difference in the number of correct attempts by answers with different confidence (H(4) = {s:.1f}, {apaStylePValue(p)}).\")"
   ]
  },
  {
   "cell_type": "code",
   "execution_count": 50,
   "metadata": {},
   "outputs": [],
   "source": [
    "questions_411 = questions.query(\"AnswersCount > @minumum_answers\")\n",
    "questions_411 = questions_411.query(\"CorrectCount > @minumum_correct_and_incorrect_answers\")\n",
    "questions_411 = questions_411.query(\"IncorrectCount > @minumum_correct_and_incorrect_answers\")"
   ]
  },
  {
   "cell_type": "code",
   "execution_count": 51,
   "metadata": {},
   "outputs": [
    {
     "name": "stdout",
     "output_type": "stream",
     "text": [
      "Number of answers:\t110283\n",
      "Number of students:\t1139\n"
     ]
    }
   ],
   "source": [
    "print(f\"Number of answers:\\t{sum(questions_411['AnswersCount'])}\")\n",
    "print(f\"Number of students:\\t{len(questions_411)}\")"
   ]
  },
  {
   "cell_type": "markdown",
   "metadata": {},
   "source": [
    "#### Figure 4 Scatterplot of each question's mean confidence by students who were correct against the mean confidence by students who were incorrect"
   ]
  },
  {
   "cell_type": "code",
   "execution_count": 52,
   "metadata": {},
   "outputs": [
    {
     "name": "stdout",
     "output_type": "stream",
     "text": [
      " (rs(1137) = .477, p < .001)\n"
     ]
    },
    {
     "name": "stderr",
     "output_type": "stream",
     "text": [
      "C:\\tools\\Anaconda3\\envs\\dqasc\\lib\\site-packages\\seaborn\\distributions.py:2619: FutureWarning: `distplot` is a deprecated function and will be removed in a future version. Please adapt your code to use either `displot` (a figure-level function with similar flexibility) or `histplot` (an axes-level function for histograms).\n",
      "  warnings.warn(msg, FutureWarning)\n"
     ]
    },
    {
     "data": {
      "image/png": "[encoded data removed]",
      "text/plain": [
       "<Figure size 685.039x342.52 with 2 Axes>"
      ]
     },
     "metadata": {},
     "output_type": "display_data"
    }
   ],
   "source": [
    "set_style()\n",
    "\n",
    "conf_dualplot(\n",
    "    questions_411[\"MeanConfidenceIncorrectAnswers\"], \n",
    "    questions_411[\"MeanConfidenceCorrectAnswers\"],\n",
    "    questions_411[\"AnswersCount\"],\n",
    "    \"\",#\"Confidence when correct versus\\nincorrect for users\",\n",
    "    \"Mean Confidence when Incorrect (%)\\n\\n(a)\",\n",
    "    \"Mean Confidence when Correct (%)\",\n",
    "    questions_411[\"ConfidenceDifference\"],\n",
    "    \"Mean Confidence for Correct Answers Minus\\nMean Confidence for Incorrect Answers\\n(b)\",\n",
    "    \"Number of Questions\",\n",
    "    \"\",#\"Number of students by\\ndifference in confidence\",\n",
    "    0.1,\n",
    "    \"./images/Fig4\",\n",
    "    (width_inches_full_page, 0.5*width_inches_full_page))"
   ]
  },
  {
   "cell_type": "code",
   "execution_count": 53,
   "metadata": {},
   "outputs": [
    {
     "name": "stdout",
     "output_type": "stream",
     "text": [
      "A Mann-Whitney U test indicated that the standard deviation of the confidence was greater for questions (Mdn = 30.8) than for students (Mdn = 22.2, U = 284839.5, p < .001).\n"
     ]
    }
   ],
   "source": [
    "x = students_411[\"StdConfidence\"]\n",
    "y = questions_411[\"StdConfidence\"]\n",
    "\n",
    "u, p = stats.mannwhitneyu(x, y, alternative=\"less\")\n",
    "\n",
    "mdn1 = x.median()\n",
    "mdn2 = y.median()\n",
    "\n",
    "us = apaStyleStatistic(u, name = \"U\", format = \"%.1f\")\n",
    "ps = apaStylePValue(p)\n",
    "\n",
    "mdn1, mdn2, us, ps\n",
    "\n",
    "print(f\"A Mann-Whitney U test indicated that the standard deviation of the confidence was greater for questions (Mdn = {mdn2:.1f}) than for students (Mdn = {mdn1:.1f}, {us}, {ps}).\")"
   ]
  },
  {
   "cell_type": "markdown",
   "metadata": {},
   "source": [
    "### 4.1.2 Age"
   ]
  },
  {
   "cell_type": "code",
   "execution_count": 54,
   "metadata": {},
   "outputs": [],
   "source": [
    "students_age_7_10 = students_2019_to_2020[students_2019_to_2020[\"age_group_sept_2019\"] == \"7-10\"]\n",
    "students_age_11_13 = students_2019_to_2020[students_2019_to_2020[\"age_group_sept_2019\"] == \"11-13\"]\n",
    "students_age_14_16 = students_2019_to_2020[students_2019_to_2020[\"age_group_sept_2019\"] == \"14-16\"]"
   ]
  },
  {
   "cell_type": "markdown",
   "metadata": {},
   "source": [
    "#### Table 6 The percentage of correct answers by confidence"
   ]
  },
  {
   "cell_type": "code",
   "execution_count": 55,
   "metadata": {},
   "outputs": [
    {
     "data": {
      "text/html": [
       "<div>\n",
       "<style scoped>\n",
       "    .dataframe tbody tr th:only-of-type {\n",
       "        vertical-align: middle;\n",
       "    }\n",
       "\n",
       "    .dataframe tbody tr th {\n",
       "        vertical-align: top;\n",
       "    }\n",
       "\n",
       "    .dataframe thead th {\n",
       "        text-align: right;\n",
       "    }\n",
       "</style>\n",
       "<table border=\"1\" class=\"dataframe\">\n",
       "  <thead>\n",
       "    <tr style=\"text-align: right;\">\n",
       "      <th></th>\n",
       "      <th>mean</th>\n",
       "      <th>std</th>\n",
       "      <th>Median</th>\n",
       "    </tr>\n",
       "  </thead>\n",
       "  <tbody>\n",
       "    <tr>\n",
       "      <th>AnswersCount</th>\n",
       "      <td>38.6</td>\n",
       "      <td>57.8</td>\n",
       "      <td>18.0</td>\n",
       "    </tr>\n",
       "    <tr>\n",
       "      <th>Facility</th>\n",
       "      <td>66.3</td>\n",
       "      <td>21.9</td>\n",
       "      <td>69.2</td>\n",
       "    </tr>\n",
       "    <tr>\n",
       "      <th>MeanConfidence</th>\n",
       "      <td>78.8</td>\n",
       "      <td>20.0</td>\n",
       "      <td>83.3</td>\n",
       "    </tr>\n",
       "  </tbody>\n",
       "</table>\n",
       "</div>"
      ],
      "text/plain": [
       "                mean   std Median\n",
       "AnswersCount    38.6  57.8   18.0\n",
       "Facility        66.3  21.9   69.2\n",
       "MeanConfidence  78.8  20.0   83.3"
      ]
     },
     "execution_count": 55,
     "metadata": {},
     "output_type": "execute_result"
    }
   ],
   "source": [
    "students_describe(students_age_7_10)"
   ]
  },
  {
   "cell_type": "code",
   "execution_count": 56,
   "metadata": {},
   "outputs": [
    {
     "data": {
      "text/html": [
       "<div>\n",
       "<style scoped>\n",
       "    .dataframe tbody tr th:only-of-type {\n",
       "        vertical-align: middle;\n",
       "    }\n",
       "\n",
       "    .dataframe tbody tr th {\n",
       "        vertical-align: top;\n",
       "    }\n",
       "\n",
       "    .dataframe thead th {\n",
       "        text-align: right;\n",
       "    }\n",
       "</style>\n",
       "<table border=\"1\" class=\"dataframe\">\n",
       "  <thead>\n",
       "    <tr style=\"text-align: right;\">\n",
       "      <th></th>\n",
       "      <th>mean</th>\n",
       "      <th>std</th>\n",
       "      <th>Median</th>\n",
       "    </tr>\n",
       "  </thead>\n",
       "  <tbody>\n",
       "    <tr>\n",
       "      <th>AnswersCount</th>\n",
       "      <td>32.8</td>\n",
       "      <td>42.5</td>\n",
       "      <td>17.0</td>\n",
       "    </tr>\n",
       "    <tr>\n",
       "      <th>Facility</th>\n",
       "      <td>56.3</td>\n",
       "      <td>21.2</td>\n",
       "      <td>57.1</td>\n",
       "    </tr>\n",
       "    <tr>\n",
       "      <th>MeanConfidence</th>\n",
       "      <td>67.8</td>\n",
       "      <td>21.7</td>\n",
       "      <td>70.5</td>\n",
       "    </tr>\n",
       "  </tbody>\n",
       "</table>\n",
       "</div>"
      ],
      "text/plain": [
       "                mean   std Median\n",
       "AnswersCount    32.8  42.5   17.0\n",
       "Facility        56.3  21.2   57.1\n",
       "MeanConfidence  67.8  21.7   70.5"
      ]
     },
     "execution_count": 56,
     "metadata": {},
     "output_type": "execute_result"
    }
   ],
   "source": [
    "students_describe(students_age_11_13)"
   ]
  },
  {
   "cell_type": "code",
   "execution_count": 57,
   "metadata": {},
   "outputs": [
    {
     "data": {
      "text/html": [
       "<div>\n",
       "<style scoped>\n",
       "    .dataframe tbody tr th:only-of-type {\n",
       "        vertical-align: middle;\n",
       "    }\n",
       "\n",
       "    .dataframe tbody tr th {\n",
       "        vertical-align: top;\n",
       "    }\n",
       "\n",
       "    .dataframe thead th {\n",
       "        text-align: right;\n",
       "    }\n",
       "</style>\n",
       "<table border=\"1\" class=\"dataframe\">\n",
       "  <thead>\n",
       "    <tr style=\"text-align: right;\">\n",
       "      <th></th>\n",
       "      <th>mean</th>\n",
       "      <th>std</th>\n",
       "      <th>Median</th>\n",
       "    </tr>\n",
       "  </thead>\n",
       "  <tbody>\n",
       "    <tr>\n",
       "      <th>AnswersCount</th>\n",
       "      <td>25.8</td>\n",
       "      <td>40.0</td>\n",
       "      <td>11.0</td>\n",
       "    </tr>\n",
       "    <tr>\n",
       "      <th>Facility</th>\n",
       "      <td>57.7</td>\n",
       "      <td>23.3</td>\n",
       "      <td>58.8</td>\n",
       "    </tr>\n",
       "    <tr>\n",
       "      <th>MeanConfidence</th>\n",
       "      <td>65.6</td>\n",
       "      <td>22.6</td>\n",
       "      <td>67.5</td>\n",
       "    </tr>\n",
       "  </tbody>\n",
       "</table>\n",
       "</div>"
      ],
      "text/plain": [
       "                mean   std Median\n",
       "AnswersCount    25.8  40.0   11.0\n",
       "Facility        57.7  23.3   58.8\n",
       "MeanConfidence  65.6  22.6   67.5"
      ]
     },
     "execution_count": 57,
     "metadata": {},
     "output_type": "execute_result"
    }
   ],
   "source": [
    "students_describe(students_age_14_16)"
   ]
  },
  {
   "cell_type": "code",
   "execution_count": 58,
   "metadata": {},
   "outputs": [
    {
     "name": "stdout",
     "output_type": "stream",
     "text": [
      "The Kruskal-Wallis test statistic is H(2) = 129.2, p < .001.\n"
     ]
    }
   ],
   "source": [
    "students_kruskal([students_age_7_10, students_age_11_13, students_age_14_16], col=\"AnswersCount\")"
   ]
  },
  {
   "cell_type": "code",
   "execution_count": 59,
   "metadata": {},
   "outputs": [
    {
     "name": "stdout",
     "output_type": "stream",
     "text": [
      "The Kruskal-Wallis test statistic is H(2) = 104.0, p < .001.\n"
     ]
    }
   ],
   "source": [
    "students_kruskal([students_age_7_10, students_age_11_13, students_age_14_16], col=\"Facility\")"
   ]
  },
  {
   "cell_type": "code",
   "execution_count": 60,
   "metadata": {},
   "outputs": [
    {
     "name": "stdout",
     "output_type": "stream",
     "text": [
      "The Kruskal-Wallis test statistic is H(2) = 172.2, p < .001.\n"
     ]
    }
   ],
   "source": [
    "students_kruskal([students_age_7_10, students_age_11_13, students_age_14_16], col=\"MeanConfidence\")"
   ]
  },
  {
   "cell_type": "markdown",
   "metadata": {},
   "source": [
    "#### Figure 6 Confidence against facility by key stage, with facility split into decades"
   ]
  },
  {
   "cell_type": "code",
   "execution_count": 61,
   "metadata": {},
   "outputs": [],
   "source": [
    "students_2019_to_2020[\"Group\"] = ((students_2019_to_2020[\"Facility\"] - 1) // 10).astype(\"int\")\n",
    "students_2019_to_2020[\"Group\"] = students_2019_to_2020[\"Group\"].clip(lower=0)"
   ]
  },
  {
   "cell_type": "code",
   "execution_count": 62,
   "metadata": {},
   "outputs": [
    {
     "name": "stdout",
     "output_type": "stream",
     "text": [
      "p-value annotation legend:\n",
      "ns: 5.00e-02 < p <= 1.00e+00\n",
      "*: 1.00e-02 < p <= 5.00e-02\n",
      "**: 1.00e-03 < p <= 1.00e-02\n",
      "***: 1.00e-04 < p <= 1.00e-03\n",
      "****: p <= 1.00e-04\n",
      "\n",
      "2_14-16 v.s. 2_7-10: Mann-Whitney-Wilcoxon test two-sided with Bonferroni correction, P_val=1.000e+00 U_stat=6.120e+02\n",
      "3_14-16 v.s. 3_7-10: Mann-Whitney-Wilcoxon test two-sided with Bonferroni correction, P_val=7.505e-03 U_stat=2.544e+03\n",
      "4_14-16 v.s. 4_7-10: Mann-Whitney-Wilcoxon test two-sided with Bonferroni correction, P_val=1.949e-03 U_stat=3.928e+03\n",
      "5_14-16 v.s. 5_7-10: Mann-Whitney-Wilcoxon test two-sided with Bonferroni correction, P_val=1.738e-07 U_stat=4.016e+03\n",
      "6_14-16 v.s. 6_7-10: Mann-Whitney-Wilcoxon test two-sided with Bonferroni correction, P_val=1.571e-03 U_stat=7.078e+03\n",
      "7_14-16 v.s. 7_7-10: Mann-Whitney-Wilcoxon test two-sided with Bonferroni correction, P_val=7.469e-03 U_stat=8.025e+03\n",
      "1_14-16 v.s. 1_7-10: Mann-Whitney-Wilcoxon test two-sided with Bonferroni correction, P_val=7.831e-01 U_stat=2.675e+02\n",
      "0_14-16 v.s. 0_7-10: Mann-Whitney-Wilcoxon test two-sided with Bonferroni correction, P_val=1.000e+00 U_stat=2.070e+02\n",
      "8_14-16 v.s. 8_7-10: Mann-Whitney-Wilcoxon test two-sided with Bonferroni correction, P_val=1.742e-06 U_stat=3.976e+03\n",
      "9_14-16 v.s. 9_7-10: Mann-Whitney-Wilcoxon test two-sided with Bonferroni correction, P_val=5.506e-01 U_stat=2.220e+03\n"
     ]
    },
    {
     "data": {
      "image/png": "[encoded data removed]",
      "text/plain": [
       "<Figure size 685.039x685.039 with 2 Axes>"
      ]
     },
     "metadata": {},
     "output_type": "display_data"
    }
   ],
   "source": [
    "set_style()\n",
    "\n",
    "fig, axes = plt.subplots(2, 1, figsize=(width_inches_full_page, width_inches_full_page), \n",
    "                         gridspec_kw={'height_ratios': [3, 1]})\n",
    "\n",
    "ax1 = axes[0]\n",
    "\n",
    "pal = {\"7-10\": \"C1\", \"11-13\": \"C2\", \"14-16\": \"C3\"}\n",
    "\n",
    "box_pairs=[\n",
    "    ((0, \"7-10\"), (0, \"14-16\")),\n",
    "    ((1, \"7-10\"), (1, \"14-16\")),\n",
    "    ((2, \"7-10\"), (2, \"14-16\")),\n",
    "    ((3, \"7-10\"), (3, \"14-16\")),\n",
    "    ((4, \"7-10\"), (4, \"14-16\")),\n",
    "    ((5, \"7-10\"), (5, \"14-16\")),\n",
    "    ((6, \"7-10\"), (6, \"14-16\")),\n",
    "    ((7, \"7-10\"), (7, \"14-16\")),\n",
    "    ((8, \"7-10\"), (8, \"14-16\")),\n",
    "    ((9, \"7-10\"), (9, \"14-16\"))\n",
    "    ]\n",
    "\n",
    "p = sns.boxplot(x=\"Group\", y=\"MeanConfidence\",\n",
    "            hue=\"age_group_sept_2019\", \n",
    "            data=students_2019_to_2020,\n",
    "            ax=ax1,\n",
    "            hue_order = [\"7-10\", \"11-13\", \"14-16\"],\n",
    "            palette=pal)\n",
    "\n",
    "p.legend_.remove()\n",
    "\n",
    "ax1.set_ylabel(\"Confidence (%)\")\n",
    "\n",
    "ax1.set_yticks(confidence_values)\n",
    "ax1.set_yticklabels(confidence_values)\n",
    "\n",
    "ax1.set_xlabel('') \n",
    "ax1.tick_params(axis='x', which='both', bottom=False, top=False, labelbottom=False)\n",
    "ax1.spines['bottom'].set_visible(False)\n",
    "\n",
    "test_results = add_stat_annotation(ax1, data=students_2019_to_2020, \n",
    "                                   x=\"Group\", \n",
    "                                   y=\"MeanConfidence\", \n",
    "                                   hue=\"age_group_sept_2019\", \n",
    "                                   box_pairs=box_pairs,\n",
    "                                   test='Mann-Whitney', loc='inside', verbose=2)\n",
    "\n",
    "ax2 = plt.subplot(212, sharex = ax1)\n",
    "\n",
    "sns.countplot(x=\"Group\", hue=\"age_group_sept_2019\", data=students_2019_to_2020, ax=ax2,\n",
    "            hue_order = [\"7-10\", \"11-13\", \"14-16\"], \n",
    "            palette=pal)\n",
    "\n",
    "ax2.set_xlabel(f\"Facility (%)\")\n",
    "ax2.set_ylabel(\"Number of Students\")\n",
    "\n",
    "ax2.xaxis.set_major_formatter(ticker.FuncFormatter(lambda x, pos: f'{x*10:.0f}-{x*10+10:.0f}'))\n",
    "\n",
    "ax2.legend(loc='upper left')\n",
    "\n",
    "plt.subplots_adjust(hspace=.0)\n",
    "\n",
    "export_fig(fig, \"./images/Fig6\");"
   ]
  },
  {
   "cell_type": "markdown",
   "metadata": {},
   "source": [
    "#### Mediation analysis for age on difficulty"
   ]
  },
  {
   "cell_type": "code",
   "execution_count": 63,
   "metadata": {},
   "outputs": [],
   "source": [
    "import statsmodels.stats.mediation as mediation\n",
    "import statsmodels.formula.api as smf"
   ]
  },
  {
   "cell_type": "code",
   "execution_count": 64,
   "metadata": {},
   "outputs": [],
   "source": [
    "# Mediation analysis takes a while so commented out and saved\n",
    "\n",
    "# outcome_model = smf.ols(formula=\"MeanConfidence~Facility+AgeSept2018+IsMale+IsAdvantaged\", data=students_41_scaled)\n",
    "# mediator_model = smf.ols(formula=\"Facility~AgeSept2018\", data=students_41_scaled)\n",
    "# med = mediation.Mediation(outcome_model, mediator_model, \"AgeSept2018\", \"Facility\").fit()\n",
    "# med.summary().to_pickle(\"output/mediation_age_by_facility.pkl\")\n"
   ]
  },
  {
   "cell_type": "code",
   "execution_count": 65,
   "metadata": {},
   "outputs": [
    {
     "data": {
      "text/html": [
       "<div>\n",
       "<style scoped>\n",
       "    .dataframe tbody tr th:only-of-type {\n",
       "        vertical-align: middle;\n",
       "    }\n",
       "\n",
       "    .dataframe tbody tr th {\n",
       "        vertical-align: top;\n",
       "    }\n",
       "\n",
       "    .dataframe thead th {\n",
       "        text-align: right;\n",
       "    }\n",
       "</style>\n",
       "<table border=\"1\" class=\"dataframe\">\n",
       "  <thead>\n",
       "    <tr style=\"text-align: right;\">\n",
       "      <th></th>\n",
       "      <th>Estimate</th>\n",
       "      <th>Lower CI bound</th>\n",
       "      <th>Upper CI bound</th>\n",
       "      <th>P-value</th>\n",
       "    </tr>\n",
       "  </thead>\n",
       "  <tbody>\n",
       "    <tr>\n",
       "      <th>Total effect</th>\n",
       "      <td>-0.144</td>\n",
       "      <td>-0.171</td>\n",
       "      <td>-0.115</td>\n",
       "      <td>0.000</td>\n",
       "    </tr>\n",
       "    <tr>\n",
       "      <th>ACME (average)</th>\n",
       "      <td>-0.027</td>\n",
       "      <td>-0.046</td>\n",
       "      <td>-0.008</td>\n",
       "      <td>0.008</td>\n",
       "    </tr>\n",
       "    <tr>\n",
       "      <th>ADE (average)</th>\n",
       "      <td>-0.117</td>\n",
       "      <td>-0.136</td>\n",
       "      <td>-0.097</td>\n",
       "      <td>0.000</td>\n",
       "    </tr>\n",
       "    <tr>\n",
       "      <th>Prop. mediated (average)</th>\n",
       "      <td>0.187</td>\n",
       "      <td>0.062</td>\n",
       "      <td>0.294</td>\n",
       "      <td>0.008</td>\n",
       "    </tr>\n",
       "  </tbody>\n",
       "</table>\n",
       "</div>"
      ],
      "text/plain": [
       "                          Estimate  Lower CI bound  Upper CI bound  P-value\n",
       "Total effect                -0.144          -0.171          -0.115    0.000\n",
       "ACME (average)              -0.027          -0.046          -0.008    0.008\n",
       "ADE (average)               -0.117          -0.136          -0.097    0.000\n",
       "Prop. mediated (average)     0.187           0.062           0.294    0.008"
      ]
     },
     "execution_count": 65,
     "metadata": {},
     "output_type": "execute_result"
    }
   ],
   "source": [
    "med_summary = pd.read_pickle(\"output/mediation_age_by_facility.pkl\")\n",
    "med_summary.loc[[\"Total effect\", \"ACME (average)\", \"ADE (average)\", \"Prop. mediated (average)\"]].round(3)"
   ]
  },
  {
   "cell_type": "markdown",
   "metadata": {},
   "source": [
    "### 4.1.3 Gender"
   ]
  },
  {
   "cell_type": "code",
   "execution_count": 66,
   "metadata": {},
   "outputs": [],
   "source": [
    "students_boy = students[students[\"Gender\"]==\"male\"]\n",
    "students_girl = students[students[\"Gender\"]==\"female\"]"
   ]
  },
  {
   "cell_type": "markdown",
   "metadata": {},
   "source": [
    "#### Table 7 Mean confidence and facility by gender"
   ]
  },
  {
   "cell_type": "code",
   "execution_count": 67,
   "metadata": {},
   "outputs": [
    {
     "data": {
      "text/html": [
       "<div>\n",
       "<style scoped>\n",
       "    .dataframe tbody tr th:only-of-type {\n",
       "        vertical-align: middle;\n",
       "    }\n",
       "\n",
       "    .dataframe tbody tr th {\n",
       "        vertical-align: top;\n",
       "    }\n",
       "\n",
       "    .dataframe thead th {\n",
       "        text-align: right;\n",
       "    }\n",
       "</style>\n",
       "<table border=\"1\" class=\"dataframe\">\n",
       "  <thead>\n",
       "    <tr style=\"text-align: right;\">\n",
       "      <th></th>\n",
       "      <th>mean</th>\n",
       "      <th>std</th>\n",
       "      <th>Median</th>\n",
       "    </tr>\n",
       "  </thead>\n",
       "  <tbody>\n",
       "    <tr>\n",
       "      <th>AnswersCount</th>\n",
       "      <td>30.1</td>\n",
       "      <td>43.2</td>\n",
       "      <td>15.0</td>\n",
       "    </tr>\n",
       "    <tr>\n",
       "      <th>Facility</th>\n",
       "      <td>57.5</td>\n",
       "      <td>22.3</td>\n",
       "      <td>58.3</td>\n",
       "    </tr>\n",
       "    <tr>\n",
       "      <th>MeanConfidence</th>\n",
       "      <td>71.1</td>\n",
       "      <td>21.7</td>\n",
       "      <td>74.0</td>\n",
       "    </tr>\n",
       "  </tbody>\n",
       "</table>\n",
       "</div>"
      ],
      "text/plain": [
       "                mean   std Median\n",
       "AnswersCount    30.1  43.2   15.0\n",
       "Facility        57.5  22.3   58.3\n",
       "MeanConfidence  71.1  21.7   74.0"
      ]
     },
     "execution_count": 67,
     "metadata": {},
     "output_type": "execute_result"
    }
   ],
   "source": [
    "students_describe(students_boy)"
   ]
  },
  {
   "cell_type": "code",
   "execution_count": 68,
   "metadata": {},
   "outputs": [
    {
     "data": {
      "text/html": [
       "<div>\n",
       "<style scoped>\n",
       "    .dataframe tbody tr th:only-of-type {\n",
       "        vertical-align: middle;\n",
       "    }\n",
       "\n",
       "    .dataframe tbody tr th {\n",
       "        vertical-align: top;\n",
       "    }\n",
       "\n",
       "    .dataframe thead th {\n",
       "        text-align: right;\n",
       "    }\n",
       "</style>\n",
       "<table border=\"1\" class=\"dataframe\">\n",
       "  <thead>\n",
       "    <tr style=\"text-align: right;\">\n",
       "      <th></th>\n",
       "      <th>mean</th>\n",
       "      <th>std</th>\n",
       "      <th>Median</th>\n",
       "    </tr>\n",
       "  </thead>\n",
       "  <tbody>\n",
       "    <tr>\n",
       "      <th>AnswersCount</th>\n",
       "      <td>30.2</td>\n",
       "      <td>42.1</td>\n",
       "      <td>15.0</td>\n",
       "    </tr>\n",
       "    <tr>\n",
       "      <th>Facility</th>\n",
       "      <td>58.2</td>\n",
       "      <td>21.8</td>\n",
       "      <td>59.1</td>\n",
       "    </tr>\n",
       "    <tr>\n",
       "      <th>MeanConfidence</th>\n",
       "      <td>65.4</td>\n",
       "      <td>22.0</td>\n",
       "      <td>67.9</td>\n",
       "    </tr>\n",
       "  </tbody>\n",
       "</table>\n",
       "</div>"
      ],
      "text/plain": [
       "                mean   std Median\n",
       "AnswersCount    30.2  42.1   15.0\n",
       "Facility        58.2  21.8   59.1\n",
       "MeanConfidence  65.4  22.0   67.9"
      ]
     },
     "execution_count": 68,
     "metadata": {},
     "output_type": "execute_result"
    }
   ],
   "source": [
    "students_describe(students_girl)"
   ]
  },
  {
   "cell_type": "code",
   "execution_count": 69,
   "metadata": {},
   "outputs": [
    {
     "name": "stdout",
     "output_type": "stream",
     "text": [
      "The Mann-Whitney test statistic is U = 6568697.0, p = .296. The medians are 15.0 and 15.0.\n"
     ]
    }
   ],
   "source": [
    "students_mann_whitney(students_boy, students_girl, \"AnswersCount\")"
   ]
  },
  {
   "cell_type": "code",
   "execution_count": 70,
   "metadata": {},
   "outputs": [
    {
     "name": "stdout",
     "output_type": "stream",
     "text": [
      "The Mann-Whitney test statistic is U = 6559851.0, p = .253. The medians are 58.3 and 59.1.\n"
     ]
    }
   ],
   "source": [
    "students_mann_whitney(students_boy, students_girl, \"Facility\")"
   ]
  },
  {
   "cell_type": "code",
   "execution_count": 71,
   "metadata": {},
   "outputs": [
    {
     "name": "stdout",
     "output_type": "stream",
     "text": [
      "The Mann-Whitney test statistic is U = 7696906.0, p < .001. The medians are 74.0 and 67.9.\n"
     ]
    }
   ],
   "source": [
    "students_mann_whitney(students_boy, students_girl, \"MeanConfidence\")"
   ]
  },
  {
   "cell_type": "markdown",
   "metadata": {},
   "source": [
    "#### Figure 7 Confidence against facility by gender, with facility split into decades "
   ]
  },
  {
   "cell_type": "code",
   "execution_count": 72,
   "metadata": {},
   "outputs": [],
   "source": [
    "students[\"Group\"] = ((students[\"Facility\"] - 1) // 10).astype(\"int\")\n",
    "students[\"Group\"] = students[\"Group\"].clip(lower=0)"
   ]
  },
  {
   "cell_type": "code",
   "execution_count": 73,
   "metadata": {},
   "outputs": [
    {
     "name": "stdout",
     "output_type": "stream",
     "text": [
      "p-value annotation legend:\n",
      "ns: 5.00e-02 < p <= 1.00e+00\n",
      "*: 1.00e-02 < p <= 5.00e-02\n",
      "**: 1.00e-03 < p <= 1.00e-02\n",
      "***: 1.00e-04 < p <= 1.00e-03\n",
      "****: p <= 1.00e-04\n",
      "\n",
      "9_female v.s. 9_male: Mann-Whitney-Wilcoxon test two-sided with Bonferroni correction, P_val=3.449e-02 U_stat=1.967e+04\n",
      "8_female v.s. 8_male: Mann-Whitney-Wilcoxon test two-sided with Bonferroni correction, P_val=2.525e-05 U_stat=4.653e+04\n",
      "1_female v.s. 1_male: Mann-Whitney-Wilcoxon test two-sided with Bonferroni correction, P_val=4.868e-02 U_stat=9.365e+03\n",
      "0_female v.s. 0_male: Mann-Whitney-Wilcoxon test two-sided with Bonferroni correction, P_val=6.416e-02 U_stat=1.036e+03\n",
      "2_female v.s. 2_male: Mann-Whitney-Wilcoxon test two-sided with Bonferroni correction, P_val=1.316e-02 U_stat=2.162e+04\n",
      "3_female v.s. 3_male: Mann-Whitney-Wilcoxon test two-sided with Bonferroni correction, P_val=1.547e-04 U_stat=8.710e+04\n",
      "4_female v.s. 4_male: Mann-Whitney-Wilcoxon test two-sided with Bonferroni correction, P_val=7.573e-06 U_stat=1.201e+05\n",
      "5_female v.s. 5_male: Mann-Whitney-Wilcoxon test two-sided with Bonferroni correction, P_val=2.302e-08 U_stat=1.318e+05\n",
      "6_female v.s. 6_male: Mann-Whitney-Wilcoxon test two-sided with Bonferroni correction, P_val=4.124e-12 U_stat=1.238e+05\n",
      "7_female v.s. 7_male: Mann-Whitney-Wilcoxon test two-sided with Bonferroni correction, P_val=7.243e-05 U_stat=1.087e+05\n"
     ]
    },
    {
     "data": {
      "image/png": "[encoded data removed]",
      "text/plain": [
       "<Figure size 685.039x685.039 with 2 Axes>"
      ]
     },
     "metadata": {},
     "output_type": "display_data"
    }
   ],
   "source": [
    "set_style()\n",
    "\n",
    "fig, axes = plt.subplots(2, 1, figsize=(width_inches_full_page, width_inches_full_page), \n",
    "                         gridspec_kw={'height_ratios': [3, 1]})\n",
    "\n",
    "ax1 = axes[0]\n",
    "\n",
    "pal = {\"female\": \"C1\", \"male\": \"C2\"}\n",
    "\n",
    "box_pairs=[\n",
    "    ((0, \"female\"), (0, \"male\")),\n",
    "    ((1, \"female\"), (1, \"male\")),\n",
    "    ((2, \"female\"), (2, \"male\")),\n",
    "    ((3, \"female\"), (3, \"male\")),\n",
    "    ((4, \"female\"), (4, \"male\")),\n",
    "    ((5, \"female\"), (5, \"male\")),\n",
    "    ((6, \"female\"), (6, \"male\")),\n",
    "    ((7, \"female\"), (7, \"male\")),\n",
    "    ((8, \"female\"), (8, \"male\")),\n",
    "    ((9, \"female\"), (9, \"male\"))\n",
    "    ]\n",
    "\n",
    "p = sns.boxplot(x=\"Group\", y=\"MeanConfidence\",\n",
    "            hue=\"Gender\", \n",
    "            data=students,\n",
    "            ax=ax1,\n",
    "            hue_order = [\"female\", \"male\"],\n",
    "            palette=pal)\n",
    "\n",
    "p.legend_.remove()\n",
    "\n",
    "ax1.set_ylabel(\"Confidence (%)\")\n",
    "\n",
    "ax1.set_yticks(confidence_values)\n",
    "ax1.set_yticklabels(confidence_values)\n",
    "\n",
    "ax1.set_xlabel('') \n",
    "ax1.tick_params(axis='x', which='both', bottom=False, top=False, labelbottom=False)\n",
    "ax1.spines['bottom'].set_visible(False)\n",
    "\n",
    "test_results = add_stat_annotation(ax1, data=students, \n",
    "                                   x=\"Group\", \n",
    "                                   y=\"MeanConfidence\", \n",
    "                                   hue=\"Gender\", \n",
    "                                   box_pairs=box_pairs,\n",
    "                                   test='Mann-Whitney', loc='inside', verbose=2)\n",
    "\n",
    "ax2 = plt.subplot(212, sharex = ax1)\n",
    "\n",
    "sns.countplot(x=\"Group\", hue=\"Gender\", data=students, ax=ax2,\n",
    "            hue_order = [\"female\", \"male\"], \n",
    "            palette=pal)\n",
    "\n",
    "ax2.set_xlabel(f\"Facility (%)\")\n",
    "ax2.set_ylabel(\"Number of Students\")\n",
    "\n",
    "ax2.xaxis.set_major_formatter(ticker.FuncFormatter(lambda x, pos: f'{x*10:.0f}-{x*10+10:.0f}'))\n",
    "\n",
    "ax2.legend(loc='upper left')\n",
    "\n",
    "plt.subplots_adjust(hspace=.0)\n",
    "\n",
    "#export_fig(fig, \"./images/Fig7\");"
   ]
  },
  {
   "cell_type": "markdown",
   "metadata": {},
   "source": [
    "#### 4.1.4 Advantage"
   ]
  },
  {
   "cell_type": "code",
   "execution_count": 74,
   "metadata": {},
   "outputs": [],
   "source": [
    "# Mediation analysis takes a while so commented out and saved\n",
    "\n",
    "# outcome_model = smf.ols(formula=\"MeanConfidence~Facility+AgeSept2018+IsMale+IsAdvantaged\", data=students_41_scaled)\n",
    "# mediator_model = smf.ols(formula=\"Facility~AgeSept2018+IsMale+IsAdvantaged\", data=students_41_scaled)\n",
    "# med = mediation.Mediation(outcome_model, mediator_model, \"IsAdvantaged\", \"Facility\").fit()\n",
    "# med.summary().to_pickle(\"output/mediation_advantage_by_facility.pkl\")"
   ]
  },
  {
   "cell_type": "code",
   "execution_count": 75,
   "metadata": {},
   "outputs": [
    {
     "data": {
      "text/html": [
       "<div>\n",
       "<style scoped>\n",
       "    .dataframe tbody tr th:only-of-type {\n",
       "        vertical-align: middle;\n",
       "    }\n",
       "\n",
       "    .dataframe tbody tr th {\n",
       "        vertical-align: top;\n",
       "    }\n",
       "\n",
       "    .dataframe thead th {\n",
       "        text-align: right;\n",
       "    }\n",
       "</style>\n",
       "<table border=\"1\" class=\"dataframe\">\n",
       "  <thead>\n",
       "    <tr style=\"text-align: right;\">\n",
       "      <th></th>\n",
       "      <th>Estimate</th>\n",
       "      <th>Lower CI bound</th>\n",
       "      <th>Upper CI bound</th>\n",
       "      <th>P-value</th>\n",
       "    </tr>\n",
       "  </thead>\n",
       "  <tbody>\n",
       "    <tr>\n",
       "      <th>Total effect</th>\n",
       "      <td>0.248</td>\n",
       "      <td>0.188</td>\n",
       "      <td>0.307</td>\n",
       "      <td>0.0</td>\n",
       "    </tr>\n",
       "    <tr>\n",
       "      <th>ACME (average)</th>\n",
       "      <td>0.166</td>\n",
       "      <td>0.136</td>\n",
       "      <td>0.197</td>\n",
       "      <td>0.0</td>\n",
       "    </tr>\n",
       "    <tr>\n",
       "      <th>ADE (average)</th>\n",
       "      <td>0.082</td>\n",
       "      <td>0.030</td>\n",
       "      <td>0.128</td>\n",
       "      <td>0.0</td>\n",
       "    </tr>\n",
       "    <tr>\n",
       "      <th>Prop. mediated (average)</th>\n",
       "      <td>0.670</td>\n",
       "      <td>0.550</td>\n",
       "      <td>0.844</td>\n",
       "      <td>0.0</td>\n",
       "    </tr>\n",
       "  </tbody>\n",
       "</table>\n",
       "</div>"
      ],
      "text/plain": [
       "                          Estimate  Lower CI bound  Upper CI bound  P-value\n",
       "Total effect                 0.248           0.188           0.307      0.0\n",
       "ACME (average)               0.166           0.136           0.197      0.0\n",
       "ADE (average)                0.082           0.030           0.128      0.0\n",
       "Prop. mediated (average)     0.670           0.550           0.844      0.0"
      ]
     },
     "execution_count": 75,
     "metadata": {},
     "output_type": "execute_result"
    }
   ],
   "source": [
    "med_summary = pd.read_pickle(\"output/mediation_advantage_by_facility.pkl\")\n",
    "med_summary.loc[[\"Total effect\", \"ACME (average)\", \"ADE (average)\", \"Prop. mediated (average)\"]].round(3)"
   ]
  },
  {
   "cell_type": "code",
   "execution_count": 76,
   "metadata": {},
   "outputs": [],
   "source": [
    "students_advantaged = students[students[\"IsAdvantaged\"] == True]\n",
    "students_disadvantaged = students[students[\"IsAdvantaged\"] == False]"
   ]
  },
  {
   "cell_type": "markdown",
   "metadata": {},
   "source": [
    "#### Table 8 Mean confidence and facility by disadvantage"
   ]
  },
  {
   "cell_type": "code",
   "execution_count": 77,
   "metadata": {},
   "outputs": [
    {
     "data": {
      "text/html": [
       "<div>\n",
       "<style scoped>\n",
       "    .dataframe tbody tr th:only-of-type {\n",
       "        vertical-align: middle;\n",
       "    }\n",
       "\n",
       "    .dataframe tbody tr th {\n",
       "        vertical-align: top;\n",
       "    }\n",
       "\n",
       "    .dataframe thead th {\n",
       "        text-align: right;\n",
       "    }\n",
       "</style>\n",
       "<table border=\"1\" class=\"dataframe\">\n",
       "  <thead>\n",
       "    <tr style=\"text-align: right;\">\n",
       "      <th></th>\n",
       "      <th>mean</th>\n",
       "      <th>std</th>\n",
       "      <th>Median</th>\n",
       "    </tr>\n",
       "  </thead>\n",
       "  <tbody>\n",
       "    <tr>\n",
       "      <th>AnswersCount</th>\n",
       "      <td>31.4</td>\n",
       "      <td>44.7</td>\n",
       "      <td>15.0</td>\n",
       "    </tr>\n",
       "    <tr>\n",
       "      <th>Facility</th>\n",
       "      <td>59.4</td>\n",
       "      <td>21.8</td>\n",
       "      <td>60.0</td>\n",
       "    </tr>\n",
       "    <tr>\n",
       "      <th>MeanConfidence</th>\n",
       "      <td>69.5</td>\n",
       "      <td>21.5</td>\n",
       "      <td>71.9</td>\n",
       "    </tr>\n",
       "  </tbody>\n",
       "</table>\n",
       "</div>"
      ],
      "text/plain": [
       "                mean   std Median\n",
       "AnswersCount    31.4  44.7   15.0\n",
       "Facility        59.4  21.8   60.0\n",
       "MeanConfidence  69.5  21.5   71.9"
      ]
     },
     "execution_count": 77,
     "metadata": {},
     "output_type": "execute_result"
    }
   ],
   "source": [
    "students_describe(students_advantaged)"
   ]
  },
  {
   "cell_type": "code",
   "execution_count": 78,
   "metadata": {},
   "outputs": [
    {
     "data": {
      "text/html": [
       "<div>\n",
       "<style scoped>\n",
       "    .dataframe tbody tr th:only-of-type {\n",
       "        vertical-align: middle;\n",
       "    }\n",
       "\n",
       "    .dataframe tbody tr th {\n",
       "        vertical-align: top;\n",
       "    }\n",
       "\n",
       "    .dataframe thead th {\n",
       "        text-align: right;\n",
       "    }\n",
       "</style>\n",
       "<table border=\"1\" class=\"dataframe\">\n",
       "  <thead>\n",
       "    <tr style=\"text-align: right;\">\n",
       "      <th></th>\n",
       "      <th>mean</th>\n",
       "      <th>std</th>\n",
       "      <th>Median</th>\n",
       "    </tr>\n",
       "  </thead>\n",
       "  <tbody>\n",
       "    <tr>\n",
       "      <th>AnswersCount</th>\n",
       "      <td>25.1</td>\n",
       "      <td>33.3</td>\n",
       "      <td>13.0</td>\n",
       "    </tr>\n",
       "    <tr>\n",
       "      <th>Facility</th>\n",
       "      <td>51.9</td>\n",
       "      <td>22.1</td>\n",
       "      <td>50.0</td>\n",
       "    </tr>\n",
       "    <tr>\n",
       "      <th>MeanConfidence</th>\n",
       "      <td>64.0</td>\n",
       "      <td>23.6</td>\n",
       "      <td>66.3</td>\n",
       "    </tr>\n",
       "  </tbody>\n",
       "</table>\n",
       "</div>"
      ],
      "text/plain": [
       "                mean   std Median\n",
       "AnswersCount    25.1  33.3   13.0\n",
       "Facility        51.9  22.1   50.0\n",
       "MeanConfidence  64.0  23.6   66.3"
      ]
     },
     "execution_count": 78,
     "metadata": {},
     "output_type": "execute_result"
    }
   ],
   "source": [
    "students_describe(students_disadvantaged)"
   ]
  },
  {
   "cell_type": "code",
   "execution_count": 79,
   "metadata": {},
   "outputs": [
    {
     "name": "stdout",
     "output_type": "stream",
     "text": [
      "The Mann-Whitney test statistic is U = 4055896.5, p < .001. The medians are 13.0 and 15.0.\n"
     ]
    }
   ],
   "source": [
    "students_mann_whitney(students_disadvantaged, students_advantaged, \"AnswersCount\")"
   ]
  },
  {
   "cell_type": "code",
   "execution_count": 80,
   "metadata": {},
   "outputs": [
    {
     "name": "stdout",
     "output_type": "stream",
     "text": [
      "The Mann-Whitney Rank Biserial Correlation is -0.086.\n"
     ]
    }
   ],
   "source": [
    "_, _, _, _, _, rbc = mann_whitney_rank_biserial_correlation(students_advantaged[\"AnswersCount\"], students_disadvantaged[\"AnswersCount\"])\n",
    "print(f\"The Mann-Whitney Rank Biserial Correlation is {rbc:.3f}.\")"
   ]
  },
  {
   "cell_type": "code",
   "execution_count": 81,
   "metadata": {},
   "outputs": [
    {
     "name": "stdout",
     "output_type": "stream",
     "text": [
      "The Mann-Whitney test statistic is U = 3553918.5, p < .001. The medians are 50.0 and 60.0.\n"
     ]
    }
   ],
   "source": [
    "students_mann_whitney(students_disadvantaged, students_advantaged, \"Facility\")"
   ]
  },
  {
   "cell_type": "code",
   "execution_count": 82,
   "metadata": {},
   "outputs": [
    {
     "name": "stdout",
     "output_type": "stream",
     "text": [
      "The Mann-Whitney Rank Biserial Correlation is -0.199.\n"
     ]
    }
   ],
   "source": [
    "_, _, _, _, _, rbc = mann_whitney_rank_biserial_correlation(students_advantaged[\"Facility\"], students_disadvantaged[\"Facility\"])\n",
    "print(f\"The Mann-Whitney Rank Biserial Correlation is {rbc:.3f}.\")"
   ]
  },
  {
   "cell_type": "code",
   "execution_count": 83,
   "metadata": {},
   "outputs": [
    {
     "name": "stdout",
     "output_type": "stream",
     "text": [
      "The Mann-Whitney test statistic is U = 3849712.5, p < .001. The medians are 66.3 and 71.9.\n"
     ]
    }
   ],
   "source": [
    "students_mann_whitney(students_disadvantaged, students_advantaged, \"MeanConfidence\")"
   ]
  },
  {
   "cell_type": "code",
   "execution_count": 84,
   "metadata": {},
   "outputs": [
    {
     "name": "stdout",
     "output_type": "stream",
     "text": [
      "The Mann-Whitney Rank Biserial Correlation is -0.133.\n"
     ]
    }
   ],
   "source": [
    "_, _, _, _, _, rbc = mann_whitney_rank_biserial_correlation(students_advantaged[\"MeanConfidence\"], students_disadvantaged[\"MeanConfidence\"])\n",
    "print(f\"The Mann-Whitney Rank Biserial Correlation is {rbc:.3f}.\")"
   ]
  },
  {
   "cell_type": "code",
   "execution_count": 85,
   "metadata": {},
   "outputs": [],
   "source": [
    "students[\"Advantage\"] = np.where(students[\"IsAdvantaged\"] == 1, \"advantaged\", \"disadvantaged\")"
   ]
  },
  {
   "cell_type": "markdown",
   "metadata": {},
   "source": [
    "#### Figure 9 Confidence against facility by disadvantage, with facility split into decades"
   ]
  },
  {
   "cell_type": "code",
   "execution_count": 86,
   "metadata": {},
   "outputs": [
    {
     "name": "stdout",
     "output_type": "stream",
     "text": [
      "p-value annotation legend:\n",
      "ns: 5.00e-02 < p <= 1.00e+00\n",
      "*: 1.00e-02 < p <= 5.00e-02\n",
      "**: 1.00e-03 < p <= 1.00e-02\n",
      "***: 1.00e-04 < p <= 1.00e-03\n",
      "****: p <= 1.00e-04\n",
      "\n",
      "9_advantaged v.s. 9_disadvantaged: Mann-Whitney-Wilcoxon test two-sided with Bonferroni correction, P_val=1.000e+00 U_stat=1.183e+04\n",
      "8_advantaged v.s. 8_disadvantaged: Mann-Whitney-Wilcoxon test two-sided with Bonferroni correction, P_val=1.000e+00 U_stat=2.560e+04\n",
      "1_advantaged v.s. 1_disadvantaged: Mann-Whitney-Wilcoxon test two-sided with Bonferroni correction, P_val=1.000e+00 U_stat=9.556e+03\n",
      "0_advantaged v.s. 0_disadvantaged: Mann-Whitney-Wilcoxon test two-sided with Bonferroni correction, P_val=1.000e+00 U_stat=1.409e+03\n",
      "2_advantaged v.s. 2_disadvantaged: Mann-Whitney-Wilcoxon test two-sided with Bonferroni correction, P_val=1.646e-01 U_stat=2.417e+04\n",
      "3_advantaged v.s. 3_disadvantaged: Mann-Whitney-Wilcoxon test two-sided with Bonferroni correction, P_val=1.000e+00 U_stat=8.874e+04\n",
      "4_advantaged v.s. 4_disadvantaged: Mann-Whitney-Wilcoxon test two-sided with Bonferroni correction, P_val=8.844e-02 U_stat=1.208e+05\n",
      "5_advantaged v.s. 5_disadvantaged: Mann-Whitney-Wilcoxon test two-sided with Bonferroni correction, P_val=1.000e+00 U_stat=1.090e+05\n",
      "6_advantaged v.s. 6_disadvantaged: Mann-Whitney-Wilcoxon test two-sided with Bonferroni correction, P_val=1.000e+00 U_stat=9.153e+04\n",
      "7_advantaged v.s. 7_disadvantaged: Mann-Whitney-Wilcoxon test two-sided with Bonferroni correction, P_val=1.000e+00 U_stat=7.162e+04\n"
     ]
    },
    {
     "data": {
      "image/png": "[encoded data removed]",
      "text/plain": [
       "<Figure size 685.039x685.039 with 2 Axes>"
      ]
     },
     "metadata": {},
     "output_type": "display_data"
    }
   ],
   "source": [
    "set_style()\n",
    "\n",
    "fig, axes = plt.subplots(2, 1, figsize=(width_inches_full_page, width_inches_full_page), \n",
    "                         gridspec_kw={'height_ratios': [3, 1]})\n",
    "\n",
    "ax1 = axes[0]\n",
    "\n",
    "pal = {\"disadvantaged\": \"C1\", \"advantaged\": \"C2\"}\n",
    "\n",
    "box_pairs=[\n",
    "    ((0, \"disadvantaged\"), (0, \"advantaged\")),\n",
    "    ((1, \"disadvantaged\"), (1, \"advantaged\")),\n",
    "    ((2, \"disadvantaged\"), (2, \"advantaged\")),\n",
    "    ((3, \"disadvantaged\"), (3, \"advantaged\")),\n",
    "    ((4, \"disadvantaged\"), (4, \"advantaged\")),\n",
    "    ((5, \"disadvantaged\"), (5, \"advantaged\")),\n",
    "    ((6, \"disadvantaged\"), (6, \"advantaged\")),\n",
    "    ((7, \"disadvantaged\"), (7, \"advantaged\")),\n",
    "    ((8, \"disadvantaged\"), (8, \"advantaged\")),\n",
    "    ((9, \"disadvantaged\"), (9, \"advantaged\"))\n",
    "    ]\n",
    "\n",
    "p = sns.boxplot(x=\"Group\", y=\"MeanConfidence\",\n",
    "            hue=\"Advantage\", \n",
    "            data=students,\n",
    "            ax=ax1,\n",
    "            hue_order = [\"disadvantaged\", \"advantaged\"],\n",
    "            palette=pal)\n",
    "\n",
    "p.legend_.remove()\n",
    "\n",
    "ax1.set_ylabel(\"Confidence (%)\")\n",
    "\n",
    "ax1.set_yticks(confidence_values)\n",
    "ax1.set_yticklabels(confidence_values)\n",
    "\n",
    "ax1.set_xlabel('') \n",
    "ax1.tick_params(axis='x', which='both', bottom=False, top=False, labelbottom=False)\n",
    "ax1.spines['bottom'].set_visible(False)\n",
    "\n",
    "test_results = add_stat_annotation(ax1, data=students, \n",
    "                                   x=\"Group\", \n",
    "                                   y=\"MeanConfidence\", \n",
    "                                   hue=\"Advantage\", \n",
    "                                   box_pairs=box_pairs,\n",
    "                                   test='Mann-Whitney', loc='inside', verbose=2)\n",
    "\n",
    "ax2 = plt.subplot(212, sharex = ax1)\n",
    "\n",
    "sns.countplot(x=\"Group\", hue=\"Advantage\", data=students, ax=ax2,\n",
    "            hue_order = [\"disadvantaged\", \"advantaged\"], \n",
    "            palette=pal)\n",
    "\n",
    "ax2.set_xlabel(f\"Facility (%)\")\n",
    "ax2.set_ylabel(\"Number of Students\")\n",
    "\n",
    "ax2.xaxis.set_major_formatter(ticker.FuncFormatter(lambda x, pos: f'{x*10:.0f}-{x*10+10:.0f}'))\n",
    "\n",
    "ax2.legend(loc='upper left')\n",
    "\n",
    "plt.subplots_adjust(hspace=.0)\n",
    "\n",
    "#export_fig(fig, \"./images/Fig9\");"
   ]
  },
  {
   "cell_type": "markdown",
   "metadata": {},
   "source": [
    "## 4.2 Is there evidence for the hypercorrection effect in students' responses on quiz B (administered 3 weeks later)?"
   ]
  },
  {
   "cell_type": "code",
   "execution_count": 87,
   "metadata": {},
   "outputs": [],
   "source": [
    "mistakes = answers[answers[\"IsCorrect\"]==False].copy()"
   ]
  },
  {
   "cell_type": "code",
   "execution_count": 88,
   "metadata": {},
   "outputs": [
    {
     "name": "stdout",
     "output_type": "stream",
     "text": [
      "Number of quiz A mistakes:\t\t\t86144\n",
      "Number of students who made quiz A mistakes:\t7002\n"
     ]
    }
   ],
   "source": [
    "print(f\"Number of quiz A mistakes:\\t\\t\\t{len(mistakes)}\")\n",
    "print(f\"Number of students who made quiz A mistakes:\\t{mistakes['UserId'].nunique()}\")"
   ]
  },
  {
   "cell_type": "markdown",
   "metadata": {},
   "source": [
    "#### Table 9 Students attempting an analogous question, following an incorrect answer, and the proportion of these which were correct"
   ]
  },
  {
   "cell_type": "code",
   "execution_count": 89,
   "metadata": {},
   "outputs": [
    {
     "data": {
      "text/html": [
       "<div>\n",
       "<style scoped>\n",
       "    .dataframe tbody tr th:only-of-type {\n",
       "        vertical-align: middle;\n",
       "    }\n",
       "\n",
       "    .dataframe tbody tr th {\n",
       "        vertical-align: top;\n",
       "    }\n",
       "\n",
       "    .dataframe thead th {\n",
       "        text-align: right;\n",
       "    }\n",
       "</style>\n",
       "<table border=\"1\" class=\"dataframe\">\n",
       "  <thead>\n",
       "    <tr style=\"text-align: right;\">\n",
       "      <th></th>\n",
       "      <th>AnswersCount</th>\n",
       "      <th>QuizBAnswersCount</th>\n",
       "      <th>QuizBAnswersMean</th>\n",
       "      <th>QuizBAnswersStd</th>\n",
       "      <th>CorrectQuizBAnswersCount</th>\n",
       "      <th>QuizBCorrectPercentageMean</th>\n",
       "      <th>QuizBCorrectPercentageStd</th>\n",
       "    </tr>\n",
       "    <tr>\n",
       "      <th>Confidence</th>\n",
       "      <th></th>\n",
       "      <th></th>\n",
       "      <th></th>\n",
       "      <th></th>\n",
       "      <th></th>\n",
       "      <th></th>\n",
       "      <th></th>\n",
       "    </tr>\n",
       "  </thead>\n",
       "  <tbody>\n",
       "    <tr>\n",
       "      <th>0</th>\n",
       "      <td>13921.0</td>\n",
       "      <td>6809.0</td>\n",
       "      <td>48.9</td>\n",
       "      <td>50.0</td>\n",
       "      <td>2656.0</td>\n",
       "      <td>39.0</td>\n",
       "      <td>48.8</td>\n",
       "    </tr>\n",
       "    <tr>\n",
       "      <th>25</th>\n",
       "      <td>7642.0</td>\n",
       "      <td>3766.0</td>\n",
       "      <td>49.3</td>\n",
       "      <td>50.0</td>\n",
       "      <td>1471.0</td>\n",
       "      <td>39.1</td>\n",
       "      <td>48.8</td>\n",
       "    </tr>\n",
       "    <tr>\n",
       "      <th>50</th>\n",
       "      <td>19695.0</td>\n",
       "      <td>9866.0</td>\n",
       "      <td>50.1</td>\n",
       "      <td>50.0</td>\n",
       "      <td>3968.0</td>\n",
       "      <td>40.2</td>\n",
       "      <td>49.0</td>\n",
       "    </tr>\n",
       "    <tr>\n",
       "      <th>75</th>\n",
       "      <td>18440.0</td>\n",
       "      <td>9726.0</td>\n",
       "      <td>52.7</td>\n",
       "      <td>49.9</td>\n",
       "      <td>4535.0</td>\n",
       "      <td>46.6</td>\n",
       "      <td>49.9</td>\n",
       "    </tr>\n",
       "    <tr>\n",
       "      <th>100</th>\n",
       "      <td>26446.0</td>\n",
       "      <td>14357.0</td>\n",
       "      <td>54.3</td>\n",
       "      <td>49.8</td>\n",
       "      <td>7255.0</td>\n",
       "      <td>50.5</td>\n",
       "      <td>50.0</td>\n",
       "    </tr>\n",
       "  </tbody>\n",
       "</table>\n",
       "</div>"
      ],
      "text/plain": [
       "            AnswersCount  QuizBAnswersCount  QuizBAnswersMean  \\\n",
       "Confidence                                                      \n",
       "0                13921.0             6809.0              48.9   \n",
       "25                7642.0             3766.0              49.3   \n",
       "50               19695.0             9866.0              50.1   \n",
       "75               18440.0             9726.0              52.7   \n",
       "100              26446.0            14357.0              54.3   \n",
       "\n",
       "            QuizBAnswersStd  CorrectQuizBAnswersCount  \\\n",
       "Confidence                                              \n",
       "0                      50.0                    2656.0   \n",
       "25                     50.0                    1471.0   \n",
       "50                     50.0                    3968.0   \n",
       "75                     49.9                    4535.0   \n",
       "100                    49.8                    7255.0   \n",
       "\n",
       "            QuizBCorrectPercentageMean  QuizBCorrectPercentageStd  \n",
       "Confidence                                                         \n",
       "0                                 39.0                       48.8  \n",
       "25                                39.1                       48.8  \n",
       "50                                40.2                       49.0  \n",
       "75                                46.6                       49.9  \n",
       "100                               50.5                       50.0  "
      ]
     },
     "execution_count": 89,
     "metadata": {},
     "output_type": "execute_result"
    }
   ],
   "source": [
    "def my_agg(x):\n",
    "    names = {\n",
    "        \"AnswersCount\": x[\"AnswerId\"].count(),\n",
    "        \"QuizBAnswersCount\": x[\"QuizBAnswerId\"].notnull().sum(),\n",
    "        \"QuizBAnswersMean\": round((100 * np.mean(x[\"QuizBAnswerId\"].notnull())), 1),\n",
    "        \"QuizBAnswersStd\": round((100 * np.std(x[\"QuizBAnswerId\"].notnull())), 1),\n",
    "        \"CorrectQuizBAnswersCount\": x[\"QuizBIsCorrect\"].eq(1).sum(),\n",
    "        \"QuizBCorrectPercentageMean\": round(100 * np.mean(x[\"QuizBIsCorrect\"]), 1),\n",
    "        \"QuizBCorrectPercentageStd\": round(100 * np.std(x[\"QuizBIsCorrect\"]), 1)}\n",
    "\n",
    "    return pd.Series(names, index=[\"AnswersCount\", \"QuizBAnswersCount\", \"QuizBAnswersMean\", \"QuizBAnswersStd\", \"CorrectQuizBAnswersCount\", \"QuizBCorrectPercentageMean\", \"QuizBCorrectPercentageStd\"])\n",
    "\n",
    "mistakes_by_confidence = mistakes.groupby(\"Confidence\").apply(my_agg)\n",
    "mistakes_by_confidence"
   ]
  },
  {
   "cell_type": "code",
   "execution_count": 90,
   "metadata": {},
   "outputs": [],
   "source": [
    "mistakes_conf_0 = mistakes[mistakes[\"Confidence\"] == 0]\n",
    "mistakes_conf_25 = mistakes[mistakes[\"Confidence\"] == 25]\n",
    "mistakes_conf_50 = mistakes[mistakes[\"Confidence\"] == 50]\n",
    "mistakes_conf_75 = mistakes[mistakes[\"Confidence\"] == 75]\n",
    "mistakes_conf_100 = mistakes[mistakes[\"Confidence\"] == 100]"
   ]
  },
  {
   "cell_type": "code",
   "execution_count": 91,
   "metadata": {},
   "outputs": [
    {
     "name": "stdout",
     "output_type": "stream",
     "text": [
      "The Kruskal-Wallis test statistic is H(4) = 160.6, p < .001\n"
     ]
    }
   ],
   "source": [
    "h, p = stats.kruskal(*[group[\"QuizBAnswerId\"].notnull().values for name, group in mistakes.groupby(\"Confidence\")])\n",
    "\n",
    "print(f\"The Kruskal-Wallis test statistic is H(4) = {h:.1f}, {apaStylePValue(p)}\")"
   ]
  },
  {
   "cell_type": "code",
   "execution_count": 92,
   "metadata": {},
   "outputs": [
    {
     "name": "stdout",
     "output_type": "stream",
     "text": [
      "The Kruskal-Wallis test statistic is H(4) = 430.1, p < .001\n"
     ]
    }
   ],
   "source": [
    "h, p = stats.kruskal(*[group[\"QuizBIsCorrect\"].values for name, group in mistakes[mistakes[\"QuizBAnswerId\"].notnull()].groupby(\"Confidence\")])\n",
    "\n",
    "print(f\"The Kruskal-Wallis test statistic is H(4) = {h:.1f}, {apaStylePValue(p)}\")"
   ]
  },
  {
   "cell_type": "markdown",
   "metadata": {},
   "source": [
    "If you see a RuntimeWarning when running Kruskal-Wallis you need to [fix the stats.py file](https://github.com/scipy/scipy/issues/7759). "
   ]
  },
  {
   "cell_type": "markdown",
   "metadata": {},
   "source": [
    "#### Figure 10 Students attempting a similar question 3 weeks later (quiz B), following an incorrect answer, and the proportion of these which were correct"
   ]
  },
  {
   "cell_type": "code",
   "execution_count": 93,
   "metadata": {},
   "outputs": [
    {
     "data": {
      "image/png": "[encoded data removed]",
      "text/plain": [
       "<Figure size 685.039x342.52 with 2 Axes>"
      ]
     },
     "metadata": {},
     "output_type": "display_data"
    }
   ],
   "source": [
    "set_style(markers=True)\n",
    "\n",
    "fig, ax = plt.subplots(1, 2, figsize=(width_inches_full_page, 0.5*width_inches_full_page), constrained_layout=True)\n",
    "\n",
    "ax[0].plot(mistakes_by_confidence[[\"QuizBAnswersCount\", \"CorrectQuizBAnswersCount\", \"AnswersCount\"]])\n",
    "ax[0].legend([\"Quiz B Answers\", \"Correct Quiz B Answers\", \"Quiz A Answers\"])\n",
    "\n",
    "ax[0].set_xticks(confidence_values)\n",
    "ax[0].set_xticklabels(confidence_values)\n",
    "\n",
    "ax[0].set_xlabel(\"Confidence (%)\")\n",
    "ax[0].set_ylabel(\"Counts\")\n",
    "\n",
    "ax[1].plot(mistakes_by_confidence[[\"QuizBAnswersMean\", \"QuizBCorrectPercentageMean\"]])\n",
    "\n",
    "ax[1].hlines(y=answers_without_confidence[\"IncorrectQuizAQuizBAnswersPercentage\"], xmin=0, xmax=100, color=\"C0\", linestyle='--')\n",
    "ax[1].hlines(y=answers_without_confidence[\"IncorrectQuizACorrectQuizBAnswersPercentage\"], xmin=0, xmax=100, color=\"C1\", linestyle='--')\n",
    "\n",
    "ax[1].legend([\"% Quiz B Answers\", \"% Correct Quiz B Answers\"])\n",
    "\n",
    "ax[1].set_xticks(confidence_values)\n",
    "ax[1].set_xticklabels(confidence_values)\n",
    "\n",
    "ax[1].set_xlabel(\"Confidence (%)\")\n",
    "ax[1].set_ylabel(\"Percentage (%)\")\n",
    "\n",
    "export_fig(fig, \"./images/Fig10\")"
   ]
  },
  {
   "cell_type": "markdown",
   "metadata": {},
   "source": [
    "#### Footnote\n"
   ]
  },
  {
   "cell_type": "code",
   "execution_count": 94,
   "metadata": {},
   "outputs": [],
   "source": [
    "student_confidence = answers.groupby(\"UserId\")[\"Confidence\"].agg([ \"std\", \"nunique\" ])"
   ]
  },
  {
   "cell_type": "code",
   "execution_count": 95,
   "metadata": {},
   "outputs": [
    {
     "name": "stdout",
     "output_type": "stream",
     "text": [
      "For incorrect answers, 29% of students used 0, 50, 100 only for at least 90% of their answers\n"
     ]
    }
   ],
   "source": [
    "x = mistakes[[\"UserId\", \"Confidence\"]].copy()\n",
    "x[\"confidence_0_50_100\"] = x[\"Confidence\"].isin([0,50,100])\n",
    "y = x.groupby(\"UserId\")[\"confidence_0_50_100\"].agg([ \"mean\" ])\n",
    "print(f\"For incorrect answers, {100 * sum(y['mean'] > 0.9) / len(y):.0f}% of students used 0, 50, 100 only for at least 90% of their answers\")"
   ]
  },
  {
   "cell_type": "code",
   "execution_count": 96,
   "metadata": {},
   "outputs": [
    {
     "name": "stdout",
     "output_type": "stream",
     "text": [
      "For all answers, 23% of students used 0, 50, 100 only for at least 90% of their answers\n"
     ]
    }
   ],
   "source": [
    "x = answers[[\"UserId\", \"Confidence\"]].copy()\n",
    "x[\"confidence_0_50_100\"] = x[\"Confidence\"].isin([0,50,100])\n",
    "y = x.groupby(\"UserId\")[\"confidence_0_50_100\"].agg([ \"mean\" ])\n",
    "print(f\"For all answers, {100 * sum(y['mean'] > 0.9) / len(y):.0f}% of students used 0, 50, 100 only for at least 90% of their answers\")"
   ]
  },
  {
   "cell_type": "markdown",
   "metadata": {},
   "source": [
    "#### Figure 11 Student confidence versus facility in quiz A and quiz B\n",
    "\n",
    "To examine metacognition we restrict our dataset to those answers for which the student answered both the quiz A and quiz B questions with confidence."
   ]
  },
  {
   "cell_type": "code",
   "execution_count": 97,
   "metadata": {},
   "outputs": [],
   "source": [
    "answers_metacognition = answers_raw[answers_raw[\"QuizBConfidence\"].notnull()].copy()"
   ]
  },
  {
   "cell_type": "code",
   "execution_count": 98,
   "metadata": {},
   "outputs": [
    {
     "data": {
      "text/plain": [
       "83758"
      ]
     },
     "execution_count": 98,
     "metadata": {},
     "output_type": "execute_result"
    }
   ],
   "source": [
    "len(answers_metacognition)"
   ]
  },
  {
   "cell_type": "code",
   "execution_count": 99,
   "metadata": {},
   "outputs": [],
   "source": [
    "students_metacognition = answers_metacognition.groupby(\"UserId\").agg( \n",
    "    AnswersCount = (\"AnswerId\", \"count\"),    \n",
    "    MeanConfidence = (\"Confidence\", \"mean\"),\n",
    "    CorrectCount = (\"IsCorrect\", lambda x: sum(x == 1)),\n",
    "    QuizBMeanConfidence = (\"QuizBConfidence\", \"mean\"),\n",
    "    QuizBCorrectCount = (\"QuizBIsCorrect\", lambda x: sum(x == 1))\n",
    ")\n",
    "\n",
    "students_metacognition = students_metacognition[students_metacognition[\"AnswersCount\"] >= 10]\n",
    "\n",
    "students_metacognition[\"Facility\"] = 100 * students_metacognition[\"CorrectCount\"] / students_metacognition[\"AnswersCount\"]\n",
    "students_metacognition[\"QuizBFacility\"] = 100 * students_metacognition[\"QuizBCorrectCount\"] / students_metacognition[\"AnswersCount\"]\n",
    "\n",
    "students_metacognition[\"MeanConfidence - Facility\"] = \\\n",
    "    students_metacognition[\"MeanConfidence\"] - students_metacognition[\"Facility\"]\n",
    "\n",
    "students_metacognition[\"QuizBMeanConfidence - QuizBFacility\"] = \\\n",
    "    students_metacognition[\"QuizBMeanConfidence\"] - students_metacognition[\"QuizBFacility\"]"
   ]
  },
  {
   "cell_type": "code",
   "execution_count": 100,
   "metadata": {},
   "outputs": [
    {
     "name": "stdout",
     "output_type": "stream",
     "text": [
      "Student confidence versus facility (rs(1654) = .509, p < .001)\n",
      "Student confidence versus facility (rs(1654) = .502, p < .001)\n"
     ]
    },
    {
     "data": {
      "image/png": "[encoded data removed]",
      "text/plain": [
       "<Figure size 685.039x342.52 with 2 Axes>"
      ]
     },
     "metadata": {},
     "output_type": "display_data"
    }
   ],
   "source": [
    "fig, axes = plt.subplots(1, 2, figsize=(width_inches_full_page, 0.5*width_inches_full_page), constrained_layout=True)\n",
    "\n",
    "ax = axes[0]\n",
    "\n",
    "x = students_metacognition[\"Facility\"]\n",
    "y = students_metacognition[\"MeanConfidence\"]\n",
    "s = students_metacognition[\"AnswersCount\"]\n",
    "\n",
    "r, p = stats.spearmanr(x, y)\n",
    "n = len(x)\n",
    "df = n - 2\n",
    "\n",
    "ax.scatter(x, y, s=s, alpha=0.3, edgecolors='none')\n",
    "ax.set_xlabel(\"Facility in Quiz A (%)\")\n",
    "ax.set_ylabel(\"Confidence in Quiz A (%)\")\n",
    "\n",
    "ax.set_xticks(facility_values)\n",
    "ax.set_xticklabels(facility_values)\n",
    "\n",
    "ax.set_yticks(confidence_values)\n",
    "ax.set_yticklabels(confidence_values)\n",
    "\n",
    "print(f\"Student confidence versus facility {apaStyleCombined(r, p, df, 'rs')}\")\n",
    "ax.plot([0,100],[0,100], linestyle='--', linewidth=2, color=\"C2\")\n",
    "\n",
    "ax.set(aspect=1.0)\n",
    "\n",
    "l1 = ax.scatter([],[], s=10, edgecolors='none', alpha=0.3, color=\"C0\")\n",
    "l2 = ax.scatter([],[], s=50, edgecolors='none', alpha=0.3, color=\"C0\")\n",
    "l3 = ax.scatter([],[], s=100, edgecolors='none', alpha=0.3, color=\"C0\")\n",
    "\n",
    "labels = [\"10\", \"50\", \"100\"]\n",
    "\n",
    "leg = ax.legend([l1, l2, l3], labels, title='# Answers')\n",
    "\n",
    "ax = axes[1]\n",
    "\n",
    "x = students_metacognition[\"QuizBFacility\"]\n",
    "y = students_metacognition[\"QuizBMeanConfidence\"]\n",
    "s = students_metacognition[\"AnswersCount\"]\n",
    "\n",
    "r, p = stats.spearmanr(x, y)\n",
    "n = len(x)\n",
    "df = n - 2\n",
    "\n",
    "ax.scatter(x, y, s=s, alpha=0.3, edgecolors='none')\n",
    "ax.set_xlabel(\"Facility in Quiz B (%)\")\n",
    "ax.set_ylabel(\"Confidence in Quiz B (%)\")\n",
    "\n",
    "ax.set_xticks(facility_values)\n",
    "ax.set_xticklabels(facility_values)\n",
    "\n",
    "ax.set_yticks(confidence_values)\n",
    "ax.set_yticklabels(confidence_values)\n",
    "\n",
    "print(f\"Student confidence versus facility {apaStyleCombined(r, p, df, 'rs')}\")\n",
    "ax.plot([0,100],[0,100], linestyle='--', linewidth=2, color=\"C2\")\n",
    "\n",
    "ax.set(aspect=1.0)\n",
    "\n",
    "l1 = ax.scatter([],[], s=10, edgecolors='none', alpha=0.3, color=\"C0\")\n",
    "l2 = ax.scatter([],[], s=50, edgecolors='none', alpha=0.3, color=\"C0\")\n",
    "l3 = ax.scatter([],[], s=100, edgecolors='none', alpha=0.3, color=\"C0\")\n",
    "\n",
    "labels = [\"10\", \"50\", \"100\"]\n",
    "\n",
    "leg = ax.legend([l1, l2, l3], labels, title='# Answers')\n",
    "      \n",
    "export_fig(fig, \"./images/Fig11\")"
   ]
  },
  {
   "cell_type": "markdown",
   "metadata": {},
   "source": [
    "#### Table 10 Distribution of data for logistic regression"
   ]
  },
  {
   "cell_type": "code",
   "execution_count": 101,
   "metadata": {},
   "outputs": [],
   "source": [
    "mistakes_inc_quizb = mistakes[mistakes[\"QuizBAnswerId\"].notnull()]"
   ]
  },
  {
   "cell_type": "code",
   "execution_count": 102,
   "metadata": {},
   "outputs": [
    {
     "name": "stdout",
     "output_type": "stream",
     "text": [
      "Number of mistakes with quiz B answers:\t44524\n",
      "Number of students with quiz B answers:\t3838\n"
     ]
    }
   ],
   "source": [
    "print(f\"Number of mistakes with quiz B answers:\\t{len(mistakes_inc_quizb)}\")\n",
    "print(f\"Number of students with quiz B answers:\\t{mistakes_inc_quizb['UserId'].nunique()}\")"
   ]
  },
  {
   "cell_type": "code",
   "execution_count": 103,
   "metadata": {},
   "outputs": [
    {
     "data": {
      "text/html": [
       "<div>\n",
       "<style scoped>\n",
       "    .dataframe tbody tr th:only-of-type {\n",
       "        vertical-align: middle;\n",
       "    }\n",
       "\n",
       "    .dataframe tbody tr th {\n",
       "        vertical-align: top;\n",
       "    }\n",
       "\n",
       "    .dataframe thead th {\n",
       "        text-align: right;\n",
       "    }\n",
       "</style>\n",
       "<table border=\"1\" class=\"dataframe\">\n",
       "  <thead>\n",
       "    <tr style=\"text-align: right;\">\n",
       "      <th></th>\n",
       "      <th>N</th>\n",
       "      <th>FacilityMean</th>\n",
       "      <th>FacilityStd</th>\n",
       "      <th>ConfidenceMean</th>\n",
       "      <th>ConfidenceStd</th>\n",
       "      <th>AgeMean</th>\n",
       "      <th>AgeStd</th>\n",
       "      <th>Advantaged</th>\n",
       "      <th>Disadvantaged</th>\n",
       "      <th>Female</th>\n",
       "      <th>Male</th>\n",
       "    </tr>\n",
       "    <tr>\n",
       "      <th>QuizBIsCorrect</th>\n",
       "      <th></th>\n",
       "      <th></th>\n",
       "      <th></th>\n",
       "      <th></th>\n",
       "      <th></th>\n",
       "      <th></th>\n",
       "      <th></th>\n",
       "      <th></th>\n",
       "      <th></th>\n",
       "      <th></th>\n",
       "      <th></th>\n",
       "    </tr>\n",
       "  </thead>\n",
       "  <tbody>\n",
       "    <tr>\n",
       "      <th>0.0</th>\n",
       "      <td>24639.0</td>\n",
       "      <td>50.4</td>\n",
       "      <td>16.6</td>\n",
       "      <td>58.9</td>\n",
       "      <td>35.4</td>\n",
       "      <td>11.4</td>\n",
       "      <td>1.8</td>\n",
       "      <td>19348.0</td>\n",
       "      <td>5291.0</td>\n",
       "      <td>12552.0</td>\n",
       "      <td>12087.0</td>\n",
       "    </tr>\n",
       "    <tr>\n",
       "      <th>1.0</th>\n",
       "      <td>19885.0</td>\n",
       "      <td>57.6</td>\n",
       "      <td>17.2</td>\n",
       "      <td>65.4</td>\n",
       "      <td>34.6</td>\n",
       "      <td>11.2</td>\n",
       "      <td>1.9</td>\n",
       "      <td>16233.0</td>\n",
       "      <td>3652.0</td>\n",
       "      <td>10288.0</td>\n",
       "      <td>9597.0</td>\n",
       "    </tr>\n",
       "  </tbody>\n",
       "</table>\n",
       "</div>"
      ],
      "text/plain": [
       "                      N  FacilityMean  FacilityStd  ConfidenceMean  \\\n",
       "QuizBIsCorrect                                                       \n",
       "0.0             24639.0          50.4         16.6            58.9   \n",
       "1.0             19885.0          57.6         17.2            65.4   \n",
       "\n",
       "                ConfidenceStd  AgeMean  AgeStd  Advantaged  Disadvantaged  \\\n",
       "QuizBIsCorrect                                                              \n",
       "0.0                      35.4     11.4     1.8     19348.0         5291.0   \n",
       "1.0                      34.6     11.2     1.9     16233.0         3652.0   \n",
       "\n",
       "                 Female     Male  \n",
       "QuizBIsCorrect                    \n",
       "0.0             12552.0  12087.0  \n",
       "1.0             10288.0   9597.0  "
      ]
     },
     "execution_count": 103,
     "metadata": {},
     "output_type": "execute_result"
    }
   ],
   "source": [
    "def my_agg(x):\n",
    "    names = {\n",
    "        \"N\": x[\"AnswerId\"].count(),\n",
    "        \"FacilityMean\": round(np.mean(x[\"Facility\"]), 1),\n",
    "        \"FacilityStd\": round(np.std(x[\"Facility\"]), 1),\n",
    "        \"ConfidenceMean\": round(np.mean(x[\"Confidence\"]), 1),\n",
    "        \"ConfidenceStd\": round(np.std(x[\"Confidence\"]), 1),\n",
    "        \"AgeMean\": round(np.mean(x[\"AgeSept2018\"]), 1),\n",
    "        \"AgeStd\": round(np.std(x[\"AgeSept2018\"]), 1),\n",
    "        \"Advantaged\": sum(x[\"IsAdvantaged\"] == 1),\n",
    "        \"Disadvantaged\": sum(x[\"IsAdvantaged\"] == 0),\n",
    "        \"Female\": sum(x[\"Gender\"] == \"female\"),\n",
    "        \"Male\": sum(x[\"Gender\"] == \"male\")}\n",
    "\n",
    "    return pd.Series(names, index=[\"N\", \"FacilityMean\", \"FacilityStd\", \"ConfidenceMean\", \"ConfidenceStd\", \"AgeMean\", \"AgeStd\", \"Advantaged\", \"Disadvantaged\", \"Female\", \"Male\"])\n",
    "\n",
    "mistakes_inc_quizb.groupby(\"QuizBIsCorrect\").apply(my_agg)"
   ]
  },
  {
   "cell_type": "code",
   "execution_count": 104,
   "metadata": {},
   "outputs": [
    {
     "data": {
      "text/html": [
       "<div>\n",
       "<style scoped>\n",
       "    .dataframe tbody tr th:only-of-type {\n",
       "        vertical-align: middle;\n",
       "    }\n",
       "\n",
       "    .dataframe tbody tr th {\n",
       "        vertical-align: top;\n",
       "    }\n",
       "\n",
       "    .dataframe thead th {\n",
       "        text-align: right;\n",
       "    }\n",
       "</style>\n",
       "<table border=\"1\" class=\"dataframe\">\n",
       "  <thead>\n",
       "    <tr style=\"text-align: right;\">\n",
       "      <th></th>\n",
       "      <th>count</th>\n",
       "      <th>mean</th>\n",
       "      <th>std</th>\n",
       "    </tr>\n",
       "  </thead>\n",
       "  <tbody>\n",
       "    <tr>\n",
       "      <th>Facility</th>\n",
       "      <td>44524.0</td>\n",
       "      <td>53.6</td>\n",
       "      <td>17.2</td>\n",
       "    </tr>\n",
       "    <tr>\n",
       "      <th>Confidence</th>\n",
       "      <td>44524.0</td>\n",
       "      <td>61.8</td>\n",
       "      <td>35.2</td>\n",
       "    </tr>\n",
       "    <tr>\n",
       "      <th>AgeSept2018</th>\n",
       "      <td>44524.0</td>\n",
       "      <td>11.3</td>\n",
       "      <td>1.8</td>\n",
       "    </tr>\n",
       "  </tbody>\n",
       "</table>\n",
       "</div>"
      ],
      "text/plain": [
       "               count  mean   std\n",
       "Facility     44524.0  53.6  17.2\n",
       "Confidence   44524.0  61.8  35.2\n",
       "AgeSept2018  44524.0  11.3   1.8"
      ]
     },
     "execution_count": 104,
     "metadata": {},
     "output_type": "execute_result"
    }
   ],
   "source": [
    "mistakes_inc_quizb[[\"Facility\", \"Confidence\", \"AgeSept2018\"]].describe().T[[\"count\", \"mean\", \"std\"]].round(1)"
   ]
  },
  {
   "cell_type": "code",
   "execution_count": 105,
   "metadata": {},
   "outputs": [
    {
     "data": {
      "text/plain": [
       "IsAdvantaged\n",
       "0     8943\n",
       "1    35581\n",
       "dtype: int64"
      ]
     },
     "execution_count": 105,
     "metadata": {},
     "output_type": "execute_result"
    }
   ],
   "source": [
    "mistakes_inc_quizb.groupby(\"IsAdvantaged\").size()"
   ]
  },
  {
   "cell_type": "code",
   "execution_count": 106,
   "metadata": {},
   "outputs": [
    {
     "data": {
      "text/plain": [
       "Gender\n",
       "female    22840\n",
       "male      21684\n",
       "dtype: int64"
      ]
     },
     "execution_count": 106,
     "metadata": {},
     "output_type": "execute_result"
    }
   ],
   "source": [
    "mistakes_inc_quizb.groupby(\"Gender\").size()"
   ]
  },
  {
   "cell_type": "code",
   "execution_count": 107,
   "metadata": {},
   "outputs": [
    {
     "name": "stdout",
     "output_type": "stream",
     "text": [
      "Optimization terminated successfully.\n",
      "         Current function value: 0.664312\n",
      "         Iterations 5\n",
      "                           Logit Regression Results                           \n",
      "==============================================================================\n",
      "Dep. Variable:         QuizBIsCorrect   No. Observations:                44524\n",
      "Model:                          Logit   Df Residuals:                    44518\n",
      "Method:                           MLE   Df Model:                            5\n",
      "Date:                Sun, 13 Feb 2022   Pseudo R-squ.:                 0.03364\n",
      "Time:                        08:37:56   Log-Likelihood:                -29578.\n",
      "converged:                       True   LL-Null:                       -30607.\n",
      "Covariance Type:            nonrobust   LLR p-value:                     0.000\n",
      "================================================================================\n",
      "                   coef    std err          z      P>|z|      [0.025      0.975]\n",
      "--------------------------------------------------------------------------------\n",
      "Facility         0.0235      0.001     38.614      0.000       0.022       0.025\n",
      "Confidence       0.0028      0.000      9.886      0.000       0.002       0.003\n",
      "AgeSept2018     -0.0188      0.005     -3.509      0.000      -0.029      -0.008\n",
      "IsAdvantaged     0.0402      0.025      1.621      0.105      -0.008       0.089\n",
      "IsMale          -0.0461      0.020     -2.349      0.019      -0.085      -0.008\n",
      "intercept       -1.4578      0.075    -19.311      0.000      -1.606      -1.310\n",
      "================================================================================\n"
     ]
    }
   ],
   "source": [
    "d = mistakes_inc_quizb[[\"QuizBIsCorrect\", \"Facility\", \"Confidence\", \"AgeSept2018\", \"IsAdvantaged\", \"Gender\"]].copy()\n",
    "\n",
    "d[\"IsMale\"] = np.where(d[\"Gender\"] == \"male\", 1, 0).astype(\"int64\")\n",
    "d[\"intercept\"] = 1.0\n",
    "\n",
    "x = d[[\"Facility\", \"Confidence\", \"AgeSept2018\", \"IsAdvantaged\", \"IsMale\", \"intercept\"]]\n",
    "y = d[\"QuizBIsCorrect\"]\n",
    "\n",
    "logit = sm.Logit(y, x)\n",
    "\n",
    "result=logit.fit()\n",
    "\n",
    "print(result.summary())"
   ]
  },
  {
   "cell_type": "code",
   "execution_count": 108,
   "metadata": {},
   "outputs": [
    {
     "data": {
      "text/plain": [
       "<class 'statsmodels.stats.contrast.WaldTestResults'>\n",
       "                     chi2        P>chi2  df constraint\n",
       "Facility      1491.053862  0.000000e+00              1\n",
       "Confidence      97.741124  4.768161e-23              1\n",
       "AgeSept2018     12.310778  4.503503e-04              1\n",
       "IsAdvantaged     2.628114  1.049864e-01              1\n",
       "IsMale           5.516575  1.883710e-02              1\n",
       "intercept      372.902973  4.366501e-83              1"
      ]
     },
     "execution_count": 108,
     "metadata": {},
     "output_type": "execute_result"
    }
   ],
   "source": [
    "result.wald_test_terms()"
   ]
  },
  {
   "cell_type": "code",
   "execution_count": 109,
   "metadata": {},
   "outputs": [
    {
     "data": {
      "text/plain": [
       "Facility        1.023782\n",
       "Confidence      1.002850\n",
       "AgeSept2018     0.981328\n",
       "IsAdvantaged    1.041029\n",
       "IsMale          0.954955\n",
       "intercept       0.232752\n",
       "dtype: float64"
      ]
     },
     "execution_count": 109,
     "metadata": {},
     "output_type": "execute_result"
    }
   ],
   "source": [
    "# Odd ratio for each coefficient\n",
    "\n",
    "pow(math.e, result.params)"
   ]
  },
  {
   "cell_type": "code",
   "execution_count": 110,
   "metadata": {},
   "outputs": [
    {
     "data": {
      "text/html": [
       "<div>\n",
       "<style scoped>\n",
       "    .dataframe tbody tr th:only-of-type {\n",
       "        vertical-align: middle;\n",
       "    }\n",
       "\n",
       "    .dataframe tbody tr th {\n",
       "        vertical-align: top;\n",
       "    }\n",
       "\n",
       "    .dataframe thead th {\n",
       "        text-align: right;\n",
       "    }\n",
       "</style>\n",
       "<table border=\"1\" class=\"dataframe\">\n",
       "  <thead>\n",
       "    <tr style=\"text-align: right;\">\n",
       "      <th></th>\n",
       "      <th>0</th>\n",
       "      <th>1</th>\n",
       "    </tr>\n",
       "  </thead>\n",
       "  <tbody>\n",
       "    <tr>\n",
       "      <th>Facility</th>\n",
       "      <td>1.022561</td>\n",
       "      <td>1.025004</td>\n",
       "    </tr>\n",
       "    <tr>\n",
       "      <th>Confidence</th>\n",
       "      <td>1.002284</td>\n",
       "      <td>1.003416</td>\n",
       "    </tr>\n",
       "    <tr>\n",
       "      <th>AgeSept2018</th>\n",
       "      <td>0.971051</td>\n",
       "      <td>0.991715</td>\n",
       "    </tr>\n",
       "    <tr>\n",
       "      <th>IsAdvantaged</th>\n",
       "      <td>0.991631</td>\n",
       "      <td>1.092888</td>\n",
       "    </tr>\n",
       "    <tr>\n",
       "      <th>IsMale</th>\n",
       "      <td>0.918923</td>\n",
       "      <td>0.992400</td>\n",
       "    </tr>\n",
       "    <tr>\n",
       "      <th>intercept</th>\n",
       "      <td>0.200741</td>\n",
       "      <td>0.269868</td>\n",
       "    </tr>\n",
       "  </tbody>\n",
       "</table>\n",
       "</div>"
      ],
      "text/plain": [
       "                     0         1\n",
       "Facility      1.022561  1.025004\n",
       "Confidence    1.002284  1.003416\n",
       "AgeSept2018   0.971051  0.991715\n",
       "IsAdvantaged  0.991631  1.092888\n",
       "IsMale        0.918923  0.992400\n",
       "intercept     0.200741  0.269868"
      ]
     },
     "execution_count": 110,
     "metadata": {},
     "output_type": "execute_result"
    }
   ],
   "source": [
    "pow(math.e, result.conf_int())"
   ]
  },
  {
   "cell_type": "code",
   "execution_count": 111,
   "metadata": {},
   "outputs": [
    {
     "data": {
      "text/plain": [
       "<class 'statsmodels.stats.contrast.ContrastResults'>\n",
       "<Wald test (chi2): statistic=[[1936.39819455]], p-value=0.0, df_denom=5>"
      ]
     },
     "execution_count": 111,
     "metadata": {},
     "output_type": "execute_result"
    }
   ],
   "source": [
    "R = np.eye(len(result.params))[:-1]\n",
    "result.wald_test(R)"
   ]
  },
  {
   "cell_type": "code",
   "execution_count": 112,
   "metadata": {},
   "outputs": [
    {
     "data": {
      "text/plain": [
       "(2059.176890710951, 0.0, 5.0)"
      ]
     },
     "execution_count": 112,
     "metadata": {},
     "output_type": "execute_result"
    }
   ],
   "source": [
    "# Likelihood Ratio Statistic (versus the null model) equals -2 * (result.llnull - result.llf)\n",
    "\n",
    "result.llr, result.llr_pvalue, result.df_model"
   ]
  },
  {
   "cell_type": "code",
   "execution_count": 113,
   "metadata": {},
   "outputs": [],
   "source": [
    "import verhulst.stats as vs\n",
    "import verhulst.plots as vp\n",
    "\n",
    "# Fudge for deprecated function which vs relies on\n",
    "from scipy import stats\n",
    "stats.chisqprob = lambda chisq, df: stats.chi2.sf(chisq, df)"
   ]
  },
  {
   "cell_type": "code",
   "execution_count": 114,
   "metadata": {},
   "outputs": [],
   "source": [
    "y_true = y.values\n",
    "y_pred = result.predict(x).values"
   ]
  },
  {
   "cell_type": "code",
   "execution_count": 115,
   "metadata": {},
   "outputs": [
    {
     "data": {
      "text/plain": [
       "HosmerLemeshowTest(C_hat=39329.989344379195, df=8, p=0.0)"
      ]
     },
     "execution_count": 115,
     "metadata": {},
     "output_type": "execute_result"
    }
   ],
   "source": [
    "vs.hosmer_lemeshow_test(y_true, y_pred, n_groups=10)"
   ]
  },
  {
   "cell_type": "markdown",
   "metadata": {},
   "source": [
    "## Appendix A: Comparability of quiz A and quiz B questions"
   ]
  },
  {
   "cell_type": "code",
   "execution_count": 116,
   "metadata": {},
   "outputs": [
    {
     "name": "stdout",
     "output_type": "stream",
     "text": [
      "There are 6370 question pairs in the dataset.\n"
     ]
    }
   ],
   "source": [
    "print(f\"There are {len(answers[answers['QuizBQuestionId'].notnull()][['QuestionId','QuizBQuestionId']].drop_duplicates())} question pairs in the dataset.\")"
   ]
  },
  {
   "cell_type": "code",
   "execution_count": 117,
   "metadata": {},
   "outputs": [],
   "source": [
    "questions_a_and_b = pd.read_csv(\"input/questions_a_and_b.csv\", \n",
    "    dtype = { \n",
    "        \"QuizAQuestionId\": \"int64\",\n",
    "        \"QuizAAnswersCount\": \"int64\",\n",
    "        \"QuizACorrectAnswersCount\": \"int64\",\n",
    "        \"QuizBQuestionId\": \"int64\",\n",
    "        \"QuizBAnswersCount\": \"int64\",\n",
    "        \"QuizBCorrectAnswersCount\": \"int64\",\n",
    "        \"QuizBNotAAnswersCount\": \"float64\",\n",
    "        \"QuizBNotACorrectAnswersCount\": \"float64\"\n",
    "    })"
   ]
  },
  {
   "cell_type": "code",
   "execution_count": 118,
   "metadata": {},
   "outputs": [
    {
     "name": "stdout",
     "output_type": "stream",
     "text": [
      "There are 6232 question pairs with at least 20 answers.\n"
     ]
    }
   ],
   "source": [
    "questions_a_and_b = questions_a_and_b[questions_a_and_b[\"QuizAAnswersCount\"] > 20]\n",
    "questions_a_and_b = questions_a_and_b[questions_a_and_b[\"QuizBNotAAnswersCount\"] > 20]\n",
    "\n",
    "print(f\"There are {len(questions_a_and_b)} question pairs with at least 20 answers.\")"
   ]
  },
  {
   "cell_type": "code",
   "execution_count": 119,
   "metadata": {},
   "outputs": [],
   "source": [
    "questions_a_and_b[\"QuizAPercentage\"] =  100 * questions_a_and_b[\"QuizACorrectAnswersCount\"] / questions_a_and_b[\"QuizAAnswersCount\"]\n",
    "questions_a_and_b[\"QuizBNotAPercentage\"] =  100 * questions_a_and_b[\"QuizBNotACorrectAnswersCount\"] / questions_a_and_b[\"QuizBNotAAnswersCount\"]"
   ]
  },
  {
   "cell_type": "code",
   "execution_count": 120,
   "metadata": {},
   "outputs": [],
   "source": [
    "questions_a_and_b[\"Calibration\"] = questions_a_and_b[\"QuizAPercentage\"] - questions_a_and_b[\"QuizBNotAPercentage\"]"
   ]
  },
  {
   "cell_type": "code",
   "execution_count": 121,
   "metadata": {},
   "outputs": [
    {
     "name": "stderr",
     "output_type": "stream",
     "text": [
      "C:\\tools\\Anaconda3\\envs\\dqasc\\lib\\site-packages\\seaborn\\distributions.py:2619: FutureWarning: `distplot` is a deprecated function and will be removed in a future version. Please adapt your code to use either `displot` (a figure-level function with similar flexibility) or `histplot` (an axes-level function for histograms).\n",
      "  warnings.warn(msg, FutureWarning)\n"
     ]
    },
    {
     "data": {
      "image/png": "[encoded data removed]",
      "text/plain": [
       "<Figure size 330.709x330.709 with 1 Axes>"
      ]
     },
     "metadata": {},
     "output_type": "display_data"
    }
   ],
   "source": [
    "set_style()\n",
    "\n",
    "fig, axes = plt.subplots(1, 1, figsize=(width_inches_one_column, width_inches_one_column), constrained_layout=True)\n",
    "\n",
    "ax = axes\n",
    "\n",
    "sns.distplot(questions_a_and_b[\"Calibration\"], norm_hist=False, kde=False)#, fit=stats.t, kde=False)\n",
    "\n",
    "ax.set_xlabel(f\"Difference in Question Difficulty\")\n",
    "ax.set_ylabel(\"Number of Questions\")\n",
    "ax.set_title(f\"Number of questions by calibration\")\n",
    "\n",
    "export_fig(fig, \"./images/Fig12\")"
   ]
  },
  {
   "cell_type": "code",
   "execution_count": 122,
   "metadata": {},
   "outputs": [
    {
     "name": "stdout",
     "output_type": "stream",
     "text": [
      "The median is -1.38. The Wilcoxon signed-rank test statistic is 9709954.5, p = .994.\n"
     ]
    }
   ],
   "source": [
    "d = questions_a_and_b[\"Calibration\"]\n",
    "\n",
    "w, p = stats.wilcoxon(d - d.median())\n",
    "\n",
    "d.median(), w, p\n",
    "\n",
    "print(f\"The median is {d.median():.2f}. The Wilcoxon signed-rank test statistic is {w:.1f}, {apaStylePValue(p)}.\")"
   ]
  },
  {
   "cell_type": "code",
   "execution_count": null,
   "metadata": {},
   "outputs": [],
   "source": []
  }
 ],
 "metadata": {
  "colab": {
   "collapsed_sections": [],
   "name": "ncce.ipynb",
   "provenance": []
  },
  "interpreter": {
   "hash": "9857bd8b5207aaa2d871f01d6d3ef493a6c0939e36c4a2f2f616ae76466fe4a8"
  },
  "kernelspec": {
   "display_name": "Python 3.7.11 64-bit ('dqasc': conda)",
   "name": "python3"
  },
  "language_info": {
   "codemirror_mode": {
    "name": "ipython",
    "version": 3
   },
   "file_extension": ".py",
   "mimetype": "text/x-python",
   "name": "python",
   "nbconvert_exporter": "python",
   "pygments_lexer": "ipython3",
   "version": "3.7.11"
  },
  "toc": {
   "base_numbering": 1,
   "nav_menu": {},
   "number_sections": true,
   "sideBar": true,
   "skip_h1_title": false,
   "title_cell": "Table of Contents",
   "title_sidebar": "Contents",
   "toc_cell": true,
   "toc_position": {
    "height": "100px",
    "left": "1215px",
    "top": "103.8px",
    "width": "165px"
   },
   "toc_section_display": true,
   "toc_window_display": true
  }
 },
 "nbformat": 4,
 "nbformat_minor": 1
}
